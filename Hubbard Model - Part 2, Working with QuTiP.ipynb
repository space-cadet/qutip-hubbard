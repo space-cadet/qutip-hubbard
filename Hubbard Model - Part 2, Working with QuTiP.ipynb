{
 "cells": [
  {
   "cell_type": "markdown",
   "metadata": {},
   "source": [
    "##### Mathjax custom macros #####\n",
    "\n",
    "$ \\newcommand{\\opexpect}[3]{\\langle #1 \\vert #2 \\vert #3 \\rangle} $\n",
    "\n",
    "$ \\newcommand{\\rarrow}{\\rightarrow} $\n",
    "$ \\newcommand{\\bra}{\\langle} $\n",
    "$ \\newcommand{\\ket}{\\rangle} $\n",
    "\n",
    "$ \\newcommand{\\mb}[1]{\\mathbf{#1}} $\n",
    "$ \\newcommand{\\mc}[1]{\\mathcal{#1}} $\n",
    "$ \\newcommand{\\mbb}[1]{\\mathbb{#1}} $\n",
    "$ \\newcommand{\\mf}[1]{\\mathfrak{#1}} $\n",
    "\n",
    "$ \\newcommand{\\vect}[1]{\\boldsymbol{\\mathrm{#1}}} $\n",
    "$ \\newcommand{\\expect}[1]{\\langle #1\\rangle} $\n",
    "\n",
    "$ \\newcommand{\\innerp}[2]{\\langle #1 \\vert #2 \\rangle} $\n",
    "$ \\newcommand{\\fullbra}[1]{\\langle #1 \\vert} $\n",
    "$ \\newcommand{\\fullket}[1]{\\vert #1 \\rangle} $\n",
    "$ \\newcommand{\\supersc}[1]{$^{\\text{#1}}$} $\n",
    "$ \\newcommand{\\subsc}[1]{$_{\\text{#1}}$} $\n",
    "$ \\newcommand{\\sltwoc}{SL(2,\\mathbb{C})} $\n",
    "$ \\newcommand{\\sltwoz}{SL(2,\\mathbb{Z})} $\n",
    "\n",
    "$ \\newcommand{\\utilde}[1]{\\underset{\\sim}{#1}} $"
   ]
  },
  {
   "cell_type": "code",
   "execution_count": 1,
   "metadata": {
    "collapsed": true
   },
   "outputs": [],
   "source": [
    "import numpy as np\n",
    "import matplotlib.pyplot as plt\n",
    "from qutip import *\n",
    "%matplotlib inline"
   ]
  },
  {
   "cell_type": "markdown",
   "metadata": {},
   "source": [
    "#### Hubbard Model\n",
    "\n",
    "##### Hamiltonian:\n",
    "\n",
    "$$ H_{h} = -t \\sum_{<i,j>\\sigma} c^\\dagger_{i\\sigma} c_{j\\sigma} + U \\sum_i n_{i\\uparrow}n_{j\\downarrow} - \\mu \\sum_i (n_{i\\uparrow} + n_{i\\downarrow}) $$\n",
    "\n",
    "where the first term is the kinetic energy. The sum is over both possible spin at each lattice site $ \\sigma \\in \\{\\uparrow,\\downarrow\\}$. Second term is the potential energy due to repulsion of electrons at a site containing two electrons. The last term is the chemical potential associated with adding particles to the system.\n",
    "\n",
    "The partition function for a system in a thermal state is given by:\n",
    "\n",
    "$$ Z = \\text{Tr} \\left[ e^{-\\beta H} \\right] = \\sum_\\alpha \\langle \\alpha \\vert e^{-\\beta H} \\vert \\alpha \\rangle  $$\n",
    "\n",
    "For $ H_{h} $ on a single site, the partition function becomes:\n",
    "\n",
    "$$ Z_{h} = 1 + e^{\\beta(\\mu + t)} + e^{\\beta(2t + 2\\mu - U)} $$\n",
    "\n",
    "If we redefine the chemical potential $ \\mu \\rightarrow \\mu + U/2$, then the Hubbard hamiltonian becomes:\n",
    "\n",
    "$$ H = -t \\sum_{<i,j>\\sigma} c^\\dagger_{i\\sigma} c_{j\\sigma} + U \\sum_i \\left(n_{i\\uparrow} - \\frac{1}{2}\\right) \\left(n_{j\\downarrow} - \\frac{1}{2}\\right) - \\mu \\sum_i (n_{i\\uparrow} + n_{i\\downarrow}) $$"
   ]
  },
  {
   "cell_type": "markdown",
   "metadata": {},
   "source": [
    "### Operators and States in QuTiP"
   ]
  },
  {
   "cell_type": "markdown",
   "metadata": {},
   "source": [
    "Rather than using the analytical expression for the partition function, energy and other properties of the one-site Hubbard model, we will now use the Python package [QuTiP](http://qutip.org/) to define the Hubbard model Hamiltonian on $N$ sites. For this we will need to define creation, annihilation and number operators.\n",
    "\n",
    "For a single site system a creation operator is simply defined using the `create()` function:\n",
    "\n",
    "$$\\text{create(2)} \\Rightarrow c^\\dagger$$\n",
    "\n",
    "which returns the matrix:\n",
    "\n",
    "\\begin{equation*}\\left(\\begin{array}{*{11}c}0.0 & 0.0\\\\1.0 & 0.0\\\\\\end{array}\\right)\\end{equation*}"
   ]
  },
  {
   "cell_type": "code",
   "execution_count": 2,
   "metadata": {},
   "outputs": [
    {
     "data": {
      "text/latex": [
       "Quantum object: dims = [[2], [2]], shape = [2, 2], type = oper, isherm = False\\begin{equation*}\\left(\\begin{array}{*{11}c}0.0 & 0.0\\\\1.0 & 0.0\\\\\\end{array}\\right)\\end{equation*}"
      ],
      "text/plain": [
       "Quantum object: dims = [[2], [2]], shape = [2, 2], type = oper, isherm = False\n",
       "Qobj data =\n",
       "[[ 0.  0.]\n",
       " [ 1.  0.]]"
      ]
     },
     "execution_count": 2,
     "metadata": {},
     "output_type": "execute_result"
    }
   ],
   "source": [
    "create(2)"
   ]
  },
  {
   "cell_type": "markdown",
   "metadata": {},
   "source": [
    "When we have more than one site, the operator must be defined as an operator acting of the *full* Hilbert space of the system:\n",
    "$$ \\mc{H} = \\otimes_{i=1}^N \\mc{H}_i $$\n",
    "where $\\mc{H}_i$ is the Hilbert space corresponding to a single site. Thus the creation operator for the $j^\\text{th}$ site is given by:\n",
    "$$ \\mb{1}_1 \\otimes \\ldots \\mb{1}_{j-1} \\otimes c^\\dagger_j \\otimes \\mb{1}_{j+1} \\ldots \\mb{1}_N $$\n",
    "where $\\mb{1}_i$ is the identity operator acting on the $i^\\text{th}$ site.\n",
    "\n",
    "The code for this is as follows:"
   ]
  },
  {
   "cell_type": "code",
   "execution_count": 3,
   "metadata": {
    "collapsed": true
   },
   "outputs": [],
   "source": [
    "def createN(i = 1, N = 1, dims = 2):\n",
    "    '''Returns the creation operator for the i^th site of an N site spin-chain with a \n",
    "    Hilbert space of dimensionality dims at each site'''\n",
    "    \n",
    "    cdag = create(dims)\n",
    "    c = destroy(dims)\n",
    "    cid = identity(dims)\n",
    "    \n",
    "    id_list = []\n",
    "    c_list = []\n",
    "    \n",
    "    [c_list.append(cid) for n in range(N)]\n",
    "    \n",
    "#    print len(c_list)\n",
    "    \n",
    "    c_list[i-1] = cdag\n",
    "    \n",
    "    return tensor(c_list)\n",
    "    "
   ]
  },
  {
   "cell_type": "code",
   "execution_count": 4,
   "metadata": {},
   "outputs": [
    {
     "data": {
      "text/latex": [
       "Quantum object: dims = [[3], [3]], shape = [3, 3], type = oper, isherm = False\\begin{equation*}\\left(\\begin{array}{*{11}c}0.0 & 0.0 & 0.0\\\\1.0 & 0.0 & 0.0\\\\0.0 & 1.414 & 0.0\\\\\\end{array}\\right)\\end{equation*}"
      ],
      "text/plain": [
       "Quantum object: dims = [[3], [3]], shape = [3, 3], type = oper, isherm = False\n",
       "Qobj data =\n",
       "[[ 0.          0.          0.        ]\n",
       " [ 1.          0.          0.        ]\n",
       " [ 0.          1.41421356  0.        ]]"
      ]
     },
     "execution_count": 4,
     "metadata": {},
     "output_type": "execute_result"
    }
   ],
   "source": [
    "createN(i = 1, N = 1, dims = 3)"
   ]
  },
  {
   "cell_type": "code",
   "execution_count": 5,
   "metadata": {
    "collapsed": true
   },
   "outputs": [],
   "source": [
    "def destroyN(i = 1, N = 1, dims = 2):\n",
    "    '''Returns the destruction operator for the i^th site of an N site spin-chain with a \n",
    "    Hilbert space of dimensionality dims at each site'''\n",
    "    \n",
    "    c = destroy(dims)\n",
    "    cid = identity(dims)\n",
    "    \n",
    "    id_list = []\n",
    "    c_list = []\n",
    "    \n",
    "    [c_list.append(cid) for n in range(N)]\n",
    "    \n",
    "#    print len(c_list)\n",
    "    \n",
    "    c_list[i-1] = c\n",
    "    \n",
    "    return tensor(c_list)\n"
   ]
  },
  {
   "cell_type": "code",
   "execution_count": 6,
   "metadata": {},
   "outputs": [
    {
     "data": {
      "text/latex": [
       "Quantum object: dims = [[2, 2], [2, 2]], shape = [4, 4], type = oper, isherm = False\\begin{equation*}\\left(\\begin{array}{*{11}c}0.0 & 0.0 & 1.0 & 0.0\\\\0.0 & 0.0 & 0.0 & 1.0\\\\0.0 & 0.0 & 0.0 & 0.0\\\\0.0 & 0.0 & 0.0 & 0.0\\\\\\end{array}\\right)\\end{equation*}"
      ],
      "text/plain": [
       "Quantum object: dims = [[2, 2], [2, 2]], shape = [4, 4], type = oper, isherm = False\n",
       "Qobj data =\n",
       "[[ 0.  0.  1.  0.]\n",
       " [ 0.  0.  0.  1.]\n",
       " [ 0.  0.  0.  0.]\n",
       " [ 0.  0.  0.  0.]]"
      ]
     },
     "execution_count": 6,
     "metadata": {},
     "output_type": "execute_result"
    }
   ],
   "source": [
    "destroyN(i = 1, N = 2)"
   ]
  },
  {
   "cell_type": "code",
   "execution_count": 7,
   "metadata": {
    "collapsed": true
   },
   "outputs": [],
   "source": [
    "def numberN(i = 1, N = 1, dims = 2):\n",
    "    '''Returns the number operator for the i^th site of an N site spin-chain with a \n",
    "    Hilbert space of dimensionality dims at each site'''\n",
    "    \n",
    "    cdag = create(dims)\n",
    "    c = destroy(dims)\n",
    "    numop = cdag * c\n",
    "    cid = identity(dims)\n",
    "    \n",
    "    id_list = []\n",
    "    op_list = []\n",
    "    \n",
    "    [op_list.append(cid) for n in range(N)]\n",
    "    \n",
    "#    print len(op_list)\n",
    "    \n",
    "    op_list[i-1] = numop\n",
    "    \n",
    "    return tensor(op_list)\n"
   ]
  },
  {
   "cell_type": "code",
   "execution_count": 8,
   "metadata": {},
   "outputs": [
    {
     "data": {
      "text/latex": [
       "Quantum object: dims = [[2, 2], [2, 2]], shape = [4, 4], type = oper, isherm = True\\begin{equation*}\\left(\\begin{array}{*{11}c}0.0 & 0.0 & 0.0 & 0.0\\\\0.0 & 1.0 & 0.0 & 0.0\\\\0.0 & 0.0 & 0.0 & 0.0\\\\0.0 & 0.0 & 0.0 & 1.0\\\\\\end{array}\\right)\\end{equation*}"
      ],
      "text/plain": [
       "Quantum object: dims = [[2, 2], [2, 2]], shape = [4, 4], type = oper, isherm = True\n",
       "Qobj data =\n",
       "[[ 0.  0.  0.  0.]\n",
       " [ 0.  1.  0.  0.]\n",
       " [ 0.  0.  0.  0.]\n",
       " [ 0.  0.  0.  1.]]"
      ]
     },
     "execution_count": 8,
     "metadata": {},
     "output_type": "execute_result"
    }
   ],
   "source": [
    "numberN(i = 2, N = 2)"
   ]
  },
  {
   "cell_type": "markdown",
   "metadata": {},
   "source": [
    "Now at each site, one can have two electrons with spin up and down respectively. Thus our creation/annihilation operators also have a spin index $\\sigma$:\n",
    "$$ \\mb{1}_1 \\otimes \\ldots \\mb{1}_{j-1} \\otimes c^\\dagger_{j\\sigma} \\otimes \\mb{1}_{j+1} \\ldots \\mb{1}_N $$\n",
    "In order to implement we need two sets of creation/annihilation operators. One set for up-spin and one set for down-spin."
   ]
  },
  {
   "cell_type": "code",
   "execution_count": 9,
   "metadata": {},
   "outputs": [],
   "source": [
    "def hubbardHamiltonian(N = 10, t = 1, U = 1, mu = 0, shift = False, dims = 2):\n",
    "    '''Returns operator corresponding to Hubbard Hamiltonian on N sites.\n",
    "    Default value of N is 10. t, U and mu are the kinetic energy, potential energy and\n",
    "    chemical potential respectively.\n",
    "    If shift is False then first version of Hamiltonian is returned, else the second\n",
    "    version (where the chemical potential is shifted $\\mu \\rightarrow \\mu - U/2$) is\n",
    "    returned.\n",
    "    dims is the dimension of the Hilbert space for each electron. Default is 2'''\n",
    "    \n",
    "    # two sets of creation/destruction operators, labeled A and B.\n",
    "    \n",
    "    destroyA_list = []\n",
    "    createA_list = []\n",
    "\n",
    "    destroyB_list = []\n",
    "    createB_list = []\n",
    "\n",
    "    nA_list = []\n",
    "    nB_list = []\n",
    "    \n",
    "    idOp = identity(dims)\n",
    "\n",
    "    idOp_list = []\n",
    "\n",
    "    [idOp_list.append(idOp) for i in range(N)]\n",
    "    \n",
    "    superid = tensor(idOp_list) # identity operator for whole system\n",
    "    \n",
    "    H = 0\n",
    "\n",
    "    for i in range(N):\n",
    "        # Create list containing identity operator for each site\n",
    "        \n",
    "        createA_list.append(createN(i,N,dims))\n",
    "        createB_list.append(createN(i,N,dims))\n",
    "\n",
    "        destroyA_list.append(destroyN(i,N,dims))\n",
    "        destroyB_list.append(destroyN(i,N,dims))\n",
    "\n",
    "        nA_list.append(numberN(i,N,dims))\n",
    "        nB_list.append(numberN(i,N,dims))\n",
    "        \n",
    "    for i in range(N):\n",
    "        H += - t * (createA_list[i] * destroyA_list[i] + createB_list[i] * destroyB_list[i]) \\\n",
    "            - mu * (nA_list[i] + nB_list[i])\n",
    "        if shift == True:\n",
    "            H += U * (nA_list[i] - 0.5 * superid) * (nB_list[i] - 0.5 * superid)\n",
    "        else:\n",
    "            H += U * nA_list[i] * nB_list[i]\n",
    "    \n",
    "    return H"
   ]
  },
  {
   "cell_type": "code",
   "execution_count": 112,
   "metadata": {
    "collapsed": true
   },
   "outputs": [],
   "source": [
    "import sympy as sp\n",
    "import sympy.physics as sypy\n",
    "import sympy.physics.quantum as spq\n",
    "import sympy.physics.qho_1d as qho\n",
    "import sympy.physics.quantum.sho1d as sho\n",
    "import sympy.physics.quantum.shor as shor"
   ]
  },
  {
   "cell_type": "code",
   "execution_count": 115,
   "metadata": {},
   "outputs": [],
   "source": [
    "ham = sho.Hamiltonian('H')"
   ]
  },
  {
   "cell_type": "code",
   "execution_count": 116,
   "metadata": {
    "collapsed": true
   },
   "outputs": [],
   "source": [
    "ham."
   ]
  },
  {
   "cell_type": "code",
   "execution_count": 117,
   "metadata": {
    "collapsed": true
   },
   "outputs": [],
   "source": [
    "spq.Operator."
   ]
  },
  {
   "cell_type": "code",
   "execution_count": 118,
   "metadata": {
    "collapsed": true
   },
   "outputs": [],
   "source": [
    "classmethod?"
   ]
  },
  {
   "cell_type": "code",
   "execution_count": 119,
   "metadata": {},
   "outputs": [
    {
     "name": "stdout",
     "output_type": "stream",
     "text": [
      "Object `cls` not found.\n"
     ]
    }
   ],
   "source": [
    "cls?"
   ]
  },
  {
   "cell_type": "code",
   "execution_count": 123,
   "metadata": {
    "collapsed": true
   },
   "outputs": [],
   "source": [
    "d = {\"voltage\": \"four million\", \"state\": \"bleedin' demised\", \"action\": \"VOOM\"}\n",
    "e = [2,3]"
   ]
  },
  {
   "cell_type": "code",
   "execution_count": 11,
   "metadata": {},
   "outputs": [
    {
     "data": {
      "text/latex": [
       "Quantum object: dims = [[2, 2, 2, 2, 2, 2], [2, 2, 2, 2, 2, 2]], shape = [64, 64], type = oper, isherm = True\\begin{equation*}\\left(\\begin{array}{*{11}c}0.0 & 0.0 & 0.0 & 0.0 & 0.0 & \\cdots & 0.0 & 0.0 & 0.0 & 0.0 & 0.0\\\\0.0 & 2.800 & 0.0 & 0.0 & 0.0 & \\cdots & 0.0 & 0.0 & 0.0 & 0.0 & 0.0\\\\0.0 & 0.0 & 2.800 & 0.0 & 0.0 & \\cdots & 0.0 & 0.0 & 0.0 & 0.0 & 0.0\\\\0.0 & 0.0 & 0.0 & 5.600 & 0.0 & \\cdots & 0.0 & 0.0 & 0.0 & 0.0 & 0.0\\\\0.0 & 0.0 & 0.0 & 0.0 & 2.800 & \\cdots & 0.0 & 0.0 & 0.0 & 0.0 & 0.0\\\\\\vdots & \\vdots & \\vdots & \\vdots & \\vdots & \\ddots & \\vdots & \\vdots & \\vdots & \\vdots & \\vdots\\\\0.0 & 0.0 & 0.0 & 0.0 & 0.0 & \\cdots & 14.0 & 0.0 & 0.0 & 0.0 & 0.0\\\\0.0 & 0.0 & 0.0 & 0.0 & 0.0 & \\cdots & 0.0 & 11.200 & 0.0 & 0.0 & 0.0\\\\0.0 & 0.0 & 0.0 & 0.0 & 0.0 & \\cdots & 0.0 & 0.0 & 14.0 & 0.0 & 0.0\\\\0.0 & 0.0 & 0.0 & 0.0 & 0.0 & \\cdots & 0.0 & 0.0 & 0.0 & 14.0 & 0.0\\\\0.0 & 0.0 & 0.0 & 0.0 & 0.0 & \\cdots & 0.0 & 0.0 & 0.0 & 0.0 & 16.800\\\\\\end{array}\\right)\\end{equation*}"
      ],
      "text/plain": [
       "Quantum object: dims = [[2, 2, 2, 2, 2, 2], [2, 2, 2, 2, 2, 2]], shape = [64, 64], type = oper, isherm = True\n",
       "Qobj data =\n",
       "[[  0.    0.    0.  ...,   0.    0.    0. ]\n",
       " [  0.    2.8   0.  ...,   0.    0.    0. ]\n",
       " [  0.    0.    2.8 ...,   0.    0.    0. ]\n",
       " ..., \n",
       " [  0.    0.    0.  ...,  14.    0.    0. ]\n",
       " [  0.    0.    0.  ...,   0.   14.    0. ]\n",
       " [  0.    0.    0.  ...,   0.    0.   16.8]]"
      ]
     },
     "execution_count": 11,
     "metadata": {},
     "output_type": "execute_result"
    }
   ],
   "source": [
    "h1 = hubbardHamiltonian(mu=0.1,N=6,t=-1)\n",
    "h1"
   ]
  },
  {
   "cell_type": "code",
   "execution_count": 12,
   "metadata": {},
   "outputs": [
    {
     "data": {
      "text/plain": [
       "array([  0. ,   2.8,   2.8,   2.8,   2.8,   2.8,   2.8,   5.6,   5.6,\n",
       "         5.6,   5.6,   5.6,   5.6,   5.6,   5.6,   5.6,   5.6,   5.6,\n",
       "         5.6,   5.6,   5.6,   5.6,   8.4,   8.4,   8.4,   8.4,   8.4,\n",
       "         8.4,   8.4,   8.4,   8.4,   8.4,   8.4,   8.4,   8.4,   8.4,\n",
       "         8.4,   8.4,   8.4,   8.4,   8.4,   8.4,  11.2,  11.2,  11.2,\n",
       "        11.2,  11.2,  11.2,  11.2,  11.2,  11.2,  11.2,  11.2,  11.2,\n",
       "        11.2,  11.2,  11.2,  14. ,  14. ,  14. ,  14. ,  14. ,  14. ,  16.8])"
      ]
     },
     "execution_count": 12,
     "metadata": {},
     "output_type": "execute_result"
    }
   ],
   "source": [
    "h1.eigenenergies()"
   ]
  },
  {
   "cell_type": "code",
   "execution_count": 40,
   "metadata": {},
   "outputs": [],
   "source": [
    "ground = h1.eigenstates()"
   ]
  },
  {
   "cell_type": "code",
   "execution_count": 41,
   "metadata": {},
   "outputs": [
    {
     "data": {
      "text/plain": [
       "(2, 64)"
      ]
     },
     "execution_count": 41,
     "metadata": {},
     "output_type": "execute_result"
    }
   ],
   "source": [
    "np.shape(ground)"
   ]
  },
  {
   "cell_type": "code",
   "execution_count": 56,
   "metadata": {
    "collapsed": true
   },
   "outputs": [],
   "source": [
    "Qobj.expm?"
   ]
  },
  {
   "cell_type": "code",
   "execution_count": 75,
   "metadata": {},
   "outputs": [
    {
     "data": {
      "text/latex": [
       "Quantum object: dims = [[2], [2]], shape = [2, 2], type = oper, isherm = True\\begin{equation*}\\left(\\begin{array}{*{11}c}1.0 & 0.0\\\\0.0 & 1.0\\\\\\end{array}\\right)\\end{equation*}"
      ],
      "text/plain": [
       "Quantum object: dims = [[2], [2]], shape = [2, 2], type = oper, isherm = True\n",
       "Qobj data =\n",
       "[[ 1.  0.]\n",
       " [ 0.  1.]]"
      ]
     },
     "execution_count": 75,
     "metadata": {},
     "output_type": "execute_result"
    }
   ],
   "source": [
    "(2j*np.pi*sigmaz()).expm()"
   ]
  },
  {
   "cell_type": "code",
   "execution_count": 100,
   "metadata": {},
   "outputs": [],
   "source": [
    "exph1 = (-0.95*h1).expm()"
   ]
  },
  {
   "cell_type": "code",
   "execution_count": 101,
   "metadata": {},
   "outputs": [
    {
     "data": {
      "text/plain": [
       "1.5002946744691417"
      ]
     },
     "execution_count": 101,
     "metadata": {},
     "output_type": "execute_result"
    }
   ],
   "source": [
    "exph1.tr()"
   ]
  },
  {
   "cell_type": "code",
   "execution_count": 102,
   "metadata": {},
   "outputs": [
    {
     "data": {
      "text/plain": [
       "1.6477820449445226"
      ]
     },
     "execution_count": 102,
     "metadata": {},
     "output_type": "execute_result"
    }
   ],
   "source": [
    "(h1*exph1).tr()"
   ]
  },
  {
   "cell_type": "code",
   "execution_count": 103,
   "metadata": {},
   "outputs": [
    {
     "data": {
      "text/plain": [
       "1.0983056015496204"
      ]
     },
     "execution_count": 103,
     "metadata": {},
     "output_type": "execute_result"
    }
   ],
   "source": [
    "(exph1 * h1).tr()/exph1.tr()"
   ]
  },
  {
   "cell_type": "code",
   "execution_count": 34,
   "metadata": {
    "collapsed": true
   },
   "outputs": [],
   "source": [
    "expect?"
   ]
  },
  {
   "cell_type": "code",
   "execution_count": 49,
   "metadata": {},
   "outputs": [
    {
     "data": {
      "text/plain": [
       "5.6"
      ]
     },
     "execution_count": 49,
     "metadata": {},
     "output_type": "execute_result"
    }
   ],
   "source": [
    "expect(h1,ground[1][10])"
   ]
  },
  {
   "cell_type": "code",
   "execution_count": 50,
   "metadata": {},
   "outputs": [
    {
     "data": {
      "text/plain": [
       "-1194.5064227355053"
      ]
     },
     "execution_count": 50,
     "metadata": {},
     "output_type": "execute_result"
    }
   ],
   "source": [
    "entropy_vn(h1)"
   ]
  },
  {
   "cell_type": "code",
   "execution_count": null,
   "metadata": {
    "collapsed": true
   },
   "outputs": [],
   "source": [
    "energy_op = h1 + 0.1 * "
   ]
  },
  {
   "cell_type": "code",
   "execution_count": 52,
   "metadata": {},
   "outputs": [],
   "source": [
    "entropy??"
   ]
  },
  {
   "cell_type": "code",
   "execution_count": null,
   "metadata": {
    "collapsed": true
   },
   "outputs": [],
   "source": [
    "hinton?"
   ]
  },
  {
   "cell_type": "code",
   "execution_count": 16,
   "metadata": {},
   "outputs": [
    {
     "data": {
      "text/latex": [
       "Quantum object: dims = [[4], [1]], shape = [4, 1], type = ket\\begin{equation*}\\left(\\begin{array}{*{11}c}1.0\\\\0.0\\\\0.0\\\\0.0\\\\\\end{array}\\right)\\end{equation*}"
      ],
      "text/plain": [
       "Quantum object: dims = [[4], [1]], shape = [4, 1], type = ket\n",
       "Qobj data =\n",
       "[[ 1.]\n",
       " [ 0.]\n",
       " [ 0.]\n",
       " [ 0.]]"
      ]
     },
     "execution_count": 16,
     "metadata": {},
     "output_type": "execute_result"
    }
   ],
   "source": [
    "basis(4,0)"
   ]
  },
  {
   "cell_type": "code",
   "execution_count": 2,
   "metadata": {},
   "outputs": [],
   "source": [
    "def partition_hubbard(temp = 1., t = 0., U = 1., mu = 0.,kB = 1.):\n",
    "    ''' Partition function for single site Hubbard model.\n",
    "        t is the kinetic energy\n",
    "        U is the potential energy\n",
    "        mu is the chemical potential\n",
    "        temp is the temperature\n",
    "        kB is Boltzmann's constant, set to 1 by default\n",
    "    '''\n",
    "#    temp = temp + 10**(-5)\n",
    "    beta = 1/(temp*kB)\n",
    "    exp1 = np.exp(beta*(mu+t))\n",
    "    exp2 = np.exp(2.0*beta*(mu+t-U/2.0))\n",
    "    return 1 + 2*exp1 + exp2"
   ]
  },
  {
   "cell_type": "code",
   "execution_count": 3,
   "metadata": {},
   "outputs": [
    {
     "data": {
      "text/plain": [
       "array([  3.6596708 ,   5.86564036,  10.32844897,  19.93107835])"
      ]
     },
     "execution_count": 3,
     "metadata": {},
     "output_type": "execute_result"
    }
   ],
   "source": [
    "partition_hubbard(mu=np.arange(0.1,2,0.5))"
   ]
  },
  {
   "cell_type": "code",
   "execution_count": null,
   "metadata": {
    "collapsed": true
   },
   "outputs": [],
   "source": [
    "temp_values = np.arange(0.1,5,0.1)\n",
    "plot_num = 1\n",
    "for mu in np.arange(0,0.6,0.1):\n",
    "    z_values = partition_hubbard(temp=temp_values,mu=mu)\n",
    "    plt.subplot(2,3,plot_num)\n",
    "    plt.title('mu = '+ str(mu))\n",
    "    plt.plot(temp_values,z_values)\n",
    "    plot_num+=1\n",
    " "
   ]
  },
  {
   "cell_type": "code",
   "execution_count": 4,
   "metadata": {},
   "outputs": [
    {
     "data": {
      "image/png": "[encoded data removed]",
      "text/plain": [
       "<matplotlib.figure.Figure at 0x10643e110>"
      ]
     },
     "metadata": {},
     "output_type": "display_data"
    }
   ],
   "source": [
    "# plt.tight_layout() ensures that neighboring subplots do not overlap\n",
    "plt.tight_layout()\n",
    "plt.show()"
   ]
  },
  {
   "cell_type": "code",
   "execution_count": null,
   "metadata": {
    "collapsed": true
   },
   "outputs": [],
   "source": [
    "plot_num = 1\n",
    "for mu in np.arange(-0.5,0.5,0.25):\n",
    "    z_values = partition_hubbard(temp=temp_values,mu=mu)\n",
    "    plt.subplot(2,3,plot_num)\n",
    "    plt.title('mu = '+ str(mu))\n",
    "    plt.plot(temp_values,z_values)\n",
    "    plot_num+=1"
   ]
  },
  {
   "cell_type": "code",
   "execution_count": 5,
   "metadata": {},
   "outputs": [
    {
     "data": {
      "image/png": "[encoded data removed]",
      "text/plain": [
       "<matplotlib.figure.Figure at 0x10638ffd0>"
      ]
     },
     "metadata": {},
     "output_type": "display_data"
    }
   ],
   "source": [
    "# plt.tight_layout() ensures that neighboring subplots do not overlap\n",
    "plt.tight_layout()\n",
    "plt.show()"
   ]
  },
  {
   "cell_type": "code",
   "execution_count": null,
   "metadata": {
    "collapsed": true
   },
   "outputs": [],
   "source": [
    "plot_num = 1\n",
    "for mu in np.arange(0,0.09,0.01):\n",
    "    z_values = partition_hubbard(temp=temp_values,mu=mu)\n",
    "    plt.subplot(3,3,plot_num)\n",
    "    plt.title('mu = '+ str(mu))\n",
    "    plt.plot(temp_values,z_values)\n",
    "    plot_num+=1"
   ]
  },
  {
   "cell_type": "code",
   "execution_count": 6,
   "metadata": {
    "scrolled": true
   },
   "outputs": [
    {
     "data": {
      "image/png": "[encoded data removed]",
      "text/plain": [
       "<matplotlib.figure.Figure at 0x10638f3d0>"
      ]
     },
     "metadata": {},
     "output_type": "display_data"
    }
   ],
   "source": [
    "# plt.tight_layout() ensures that neighboring subplots do not overlap\n",
    "plt.tight_layout()\n",
    "plt.show()"
   ]
  },
  {
   "cell_type": "markdown",
   "metadata": {},
   "source": [
    "The energy for the single site Hubbard model is:\n",
    "\n",
    "\\begin{align}\n",
    "    E & = \\langle H + \\mu n \\rangle = \\text{Tr} \\left[ (H + \\mu n) e^{-\\beta H} \\right] \\\\\n",
    "      & = \\frac{1}{Z} \\sum_\\alpha \\langle \\alpha \\vert (H + \\mu n) e^{-\\beta H} \\vert \\alpha \\rangle \\\\ \n",
    "      & = \\frac{U e^{2\\beta(t+\\mu - U/2)}}{1 + e^{\\beta(\\mu + t)} + e^{\\beta(2t + 2\\mu - U)}}\n",
    "\\end{align}\n",
    "\n",
    "and the occupation number is:\n",
    "\n",
    "\\begin{align}\n",
    "    \\rho & = \\langle n \\rangle = \\text{Tr} \\left[ n e^{-\\beta H} \\right] \\\\\n",
    "         & = \\frac{2 e^{\\beta(\\mu + t)} + 2 e^{2\\beta(t+\\mu-U/2)}}{1 + e^{\\beta(\\mu + t)} + e^{\\beta(2t + 2\\mu - U)}}\n",
    "\\end{align}"
   ]
  },
  {
   "cell_type": "code",
   "execution_count": 7,
   "metadata": {
    "collapsed": true
   },
   "outputs": [],
   "source": [
    "def plot_hubbard(mu):\n",
    "    z_values = partition_hubbard(temp=temp_values,mu=mu)\n",
    "    plt.title('mu = '+ str(mu))\n",
    "    plt.plot(temp_values,z_values)"
   ]
  },
  {
   "cell_type": "code",
   "execution_count": 8,
   "metadata": {},
   "outputs": [
    {
     "name": "stderr",
     "output_type": "stream",
     "text": [
      ":0: FutureWarning: IPython widgets are experimental and may change in the future.\n"
     ]
    }
   ],
   "source": [
    "from IPython.html.widgets import *"
   ]
  },
  {
   "cell_type": "code",
   "execution_count": 10,
   "metadata": {
    "collapsed": true
   },
   "outputs": [],
   "source": [
    "def energy_hubbard(temp = 1, t = 0, U = 1, mu = 0,kB = 1):\n",
    "    ''' Partition function for single site Hubbard model.\n",
    "        t is the kinetic energy\n",
    "        U is the potential energy\n",
    "        mu is the chemical potential\n",
    "        temp is the temperature\n",
    "        kB is Boltzmann's constant, set to 1 by default\n",
    "    '''\n",
    "#    temp = temp + 10**(-5)\n",
    "    beta = 1/(temp*kB)\n",
    "    exp1 = np.exp(beta*(mu+t))\n",
    "    exp2 = np.exp(2.*beta*(mu+t-U/2.))\n",
    "    return (-2*t*exp1 + (U - 2*t) * exp2)/(1 + 2*exp1 + exp2 )"
   ]
  },
  {
   "cell_type": "code",
   "execution_count": 11,
   "metadata": {
    "collapsed": true
   },
   "outputs": [],
   "source": [
    "def filling_hubbard(temp = 1, t = 0, U = 1, mu = 0,kB = 1):\n",
    "    ''' Partition function for single site Hubbard model.\n",
    "        t is the kinetic energy\n",
    "        U is the potential energy\n",
    "        mu is the chemical potential\n",
    "        temp is the temperature\n",
    "        kB is Boltzmann's constant, set to 1 by default\n",
    "    '''\n",
    "#    temp = temp + 10**(-5)\n",
    "    beta = 1/(temp*kB)\n",
    "    exp1 = np.exp(beta*(mu+t))\n",
    "    exp2 = np.exp(2.*beta*(mu+t-U/2.))\n",
    "    return (2*exp1 + 2*exp2)/(1 + 2*exp1 + exp2 )"
   ]
  },
  {
   "cell_type": "code",
   "execution_count": 12,
   "metadata": {
    "collapsed": true
   },
   "outputs": [],
   "source": [
    "mu_values = np.arange(0,10,0.1)"
   ]
  },
  {
   "cell_type": "code",
   "execution_count": 14,
   "metadata": {
    "collapsed": true
   },
   "outputs": [],
   "source": [
    "import matplotlib as mpl\n",
    "\n",
    "mpl.rc('text', usetex=False)\n",
    "mpl.rc('font', family='serif')"
   ]
  },
  {
   "cell_type": "code",
   "execution_count": 15,
   "metadata": {},
   "outputs": [],
   "source": [
    "def plot_filling(temperature):\n",
    "    f_values = filling_hubbard(temp=temperature,mu=mu_values,t=0,U=4.0)\n",
    "    plt.title('U = 4.0')\n",
    "    plt.xlabel(r'$\\mu$')\n",
    "    plt.ylabel(r'$\\langle n \\rangle $')\n",
    "    plt.plot(mu_values,f_values,label='T = '+str(temperature))\n",
    "    plt.legend(loc='lower right', shadow=True)"
   ]
  },
  {
   "cell_type": "code",
   "execution_count": 16,
   "metadata": {
    "collapsed": true
   },
   "outputs": [],
   "source": [
    "def plot_energy_mu(temperature):\n",
    "    e_values = energy_hubbard(temp=temperature,mu=mu_values)\n",
    "    plt.title('U = 4.0')\n",
    "    plt.xlabel(r'$\\mu$')\n",
    "    plt.ylabel(r'$\\langle E \\rangle $')\n",
    "    plt.legend()\n",
    "    plt.plot(mu_values,e_values,label='T = '+str(temperature))\n",
    "    plt.legend(loc='upper center', shadow=True)"
   ]
  }
 ],
 "metadata": {
  "kernelspec": {
   "display_name": "Python 3",
   "language": "python",
   "name": "python3"
  },
  "language_info": {
   "codemirror_mode": {
    "name": "ipython",
    "version": 3
   },
   "file_extension": ".py",
   "mimetype": "text/x-python",
   "name": "python",
   "nbconvert_exporter": "python",
   "pygments_lexer": "ipython3",
   "version": "3.6.2"
  },
  "latex_envs": {
   "bibliofile": "biblio.bib",
   "cite_by": "apalike",
   "current_citInitial": 1,
   "eqLabelWithNumbers": true,
   "eqNumInitial": 0
  }
 },
 "nbformat": 4,
 "nbformat_minor": 1
}
