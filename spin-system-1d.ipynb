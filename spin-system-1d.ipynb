{
 "cells": [
  {
   "cell_type": "code",
   "execution_count": 1,
   "metadata": {
    "collapsed": false
   },
   "outputs": [],
   "source": [
    "import random\n",
    "import array\n",
    "import numpy as np"
   ]
  },
  {
   "cell_type": "code",
   "execution_count": 2,
   "metadata": {
    "collapsed": false
   },
   "outputs": [],
   "source": [
    "chainN = 100 # number of qubits in chain\n",
    "tempT = 273 # temperature of system in degrees Kelvin"
   ]
  },
  {
   "cell_type": "code",
   "execution_count": 3,
   "metadata": {
    "collapsed": false
   },
   "outputs": [],
   "source": [
    "coef_ij = np.zeros((chainN,chainN)) # spin-spin coupling coefficients"
   ]
  },
  {
   "cell_type": "code",
   "execution_count": 4,
   "metadata": {
    "collapsed": false
   },
   "outputs": [],
   "source": [
    "def randInput(n):\n",
    "    ''' Generates random string of length n, containing 0s and 1s '''\n",
    "    output = []\n",
    "    for i in range(n):\n",
    "        output.append(random.randint(0,1))\n",
    "    return output"
   ]
  },
  {
   "cell_type": "code",
   "execution_count": 87,
   "metadata": {
    "collapsed": false
   },
   "outputs": [],
   "source": [
    "def zeroCoefs(coefs):\n",
    "    ''' Takes chainN * chainN size matrix as input & sets all values to zero '''\n",
    "    try:\n",
    "        coefs = np.zeros((chainN,chainN))\n",
    "        return coefs\n",
    "    except Exception:\n",
    "        return false\n",
    "\n",
    "def identityCoefs(coefs):\n",
    "    ''' Takes chainN * chainN size matrix as input & sets diagonals to one, all other entries to zero '''\n",
    "    try:\n",
    "        # use np.diagflat method to create diagonal array\n",
    "        # use list comprehension to generate list of 1s to pass to np.diagflat\n",
    "        coefs = np.diagflat([1 for i in range(chainN)])\n",
    "        return coefs\n",
    "    except Exception:\n",
    "        return false\n",
    "    \n",
    "def randCoefs(N, max_val = 1.0, min_val = -1.0, symmetric = True):\n",
    "    ''' Creates N * N size matrix and randomly initializes all entries to a value between\n",
    "    max_val and min_val. If not given, these default to 1.0 and -1.0 respectively. Unless specified\n",
    "    using the variable symmetric=FALSE, the generated matrix will be symmetric'''\n",
    "    try:\n",
    "        coefs = np.zeros((N,N))\n",
    "        delta = max_val - min_val\n",
    "        \n",
    "        if symmetric:\n",
    "            for i in range(N):\n",
    "                for j in range(0,i+1):\n",
    "                    coefs[i][j] = max_val - delta * np.random.random_sample()\n",
    "                    coefs[j][i] = coefs[i][j]\n",
    "        else:\n",
    "            for i in range(N):\n",
    "                for j in range(N):\n",
    "                    coefs[i][j] = max_val - delta * np.random.random_sample()\n",
    "        return coefs\n",
    "    except Exception:\n",
    "        return false\n",
    "\n",
    "def randVec(N, values=[0,1]):\n",
    "    ''' Creates size N array with each element assigned a member of values[] array at random '''\n",
    "    try:\n",
    "        vect = np.zeros(N)\n",
    "        lenval = len(values)\n",
    "        for i in range(N):\n",
    "            vect[i] = values[np.random.randint(0,lenval)]\n",
    "        return vect\n",
    "    except Exception:\n",
    "        return false"
   ]
  },
  {
   "cell_type": "code",
   "execution_count": 90,
   "metadata": {
    "collapsed": false
   },
   "outputs": [
    {
     "data": {
      "text/plain": [
       "array([-1.,  1., -1., -1.,  1.,  1.,  1., -1.,  1., -1.])"
      ]
     },
     "execution_count": 90,
     "metadata": {},
     "output_type": "execute_result"
    }
   ],
   "source": [
    "randVec(10,[-1,1])"
   ]
  },
  {
   "cell_type": "code",
   "execution_count": 29,
   "metadata": {
    "collapsed": false
   },
   "outputs": [],
   "source": [
    "chainN=4"
   ]
  },
  {
   "cell_type": "code",
   "execution_count": 39,
   "metadata": {
    "collapsed": false
   },
   "outputs": [
    {
     "name": "stdout",
     "output_type": "stream",
     "text": [
      "[[ 0.  0.  0.  0.]\n",
      " [ 0.  0.  0.  0.]\n",
      " [ 0.  0.  0.  0.]\n",
      " [ 0.  0.  0.  0.]]\n",
      "[[ -3.11022273e-01   1.56639062e-01   1.72331637e-01   6.08247297e-01]\n",
      " [  9.43739063e-04   8.39225820e-01  -4.73948128e-01  -2.33456618e-01]\n",
      " [  5.81457865e-01  -8.75221875e-01   8.41080597e-01  -9.48005311e-01]\n",
      " [  3.81057100e-01   8.33421011e-01  -6.15098166e-01   7.06132363e-02]]\n",
      "[[-0.69490754 -0.94455312 -0.87923902 -0.96253261]\n",
      " [-0.94455312 -0.89355978 -0.60297668  0.40554619]\n",
      " [-0.87923902 -0.60297668  0.78956885  0.91044651]\n",
      " [-0.96253261  0.40554619  0.91044651 -0.42646465]]\n"
     ]
    },
    {
     "data": {
      "text/plain": [
       "array([[-0.95800242,  0.23756332, -0.19331752, -0.20895897],\n",
       "       [ 0.23756332,  0.91401916, -0.97191911,  0.5149586 ],\n",
       "       [-0.19331752, -0.97191911, -0.54723673, -0.67322553],\n",
       "       [-0.20895897,  0.5149586 , -0.67322553,  0.16463271]])"
      ]
     },
     "execution_count": 39,
     "metadata": {},
     "output_type": "execute_result"
    }
   ],
   "source": [
    "coefs = np.zeros((chainN,chainN))\n",
    "print coefs\n",
    "print randCoefs(coefs,symmetric=False)\n",
    "print randCoefs(coefs,symmetric=True)\n",
    "randCoefs(coef_ij)"
   ]
  },
  {
   "cell_type": "code",
   "execution_count": 57,
   "metadata": {
    "collapsed": false
   },
   "outputs": [],
   "source": [
    "def hamilton(inputVec,coefs):\n",
    "    ''' Accepts 1d vector of length chainN and chainN * chainN matrix as input.\n",
    "    Returns expectation value of Hamiltonian operator '''\n",
    "#    n = len(inputVec)\n",
    "    if np.shape(inputVec) != (chainN,):\n",
    "        print \"Vector length is not equal to: \", chainN\n",
    "        return\n",
    "    if np.shape(coefs) != (chainN,chainN):\n",
    "        print \"Coefficient matrix dimensions are not:\", chainN, \"x\", chainN\n",
    "    # ensure that val is initialized to float value by adding decimal\n",
    "    val = 0.\n",
    "    for i in range(chainN):\n",
    "        for j in range(chainN):\n",
    "           val = val + coefs[i][j]*inputVec[i]*inputVec[j]\n",
    "    return val"
   ]
  },
  {
   "cell_type": "code",
   "execution_count": 69,
   "metadata": {
    "collapsed": false
   },
   "outputs": [
    {
     "name": "stdout",
     "output_type": "stream",
     "text": [
      "4\n"
     ]
    },
    {
     "data": {
      "text/plain": [
       "array([[1, 0, 0, 0],\n",
       "       [0, 1, 0, 0],\n",
       "       [0, 0, 1, 0],\n",
       "       [0, 0, 0, 1]])"
      ]
     },
     "execution_count": 69,
     "metadata": {},
     "output_type": "execute_result"
    }
   ],
   "source": [
    "print chainN\n",
    "coefs = identityCoefs(coefs)\n",
    "coefs"
   ]
  },
  {
   "cell_type": "code",
   "execution_count": 71,
   "metadata": {
    "collapsed": false
   },
   "outputs": [
    {
     "name": "stdout",
     "output_type": "stream",
     "text": [
      "[0, 1, 1, 0]\n"
     ]
    }
   ],
   "source": [
    "ivec = randInput(chainN)\n",
    "print ivec"
   ]
  },
  {
   "cell_type": "code",
   "execution_count": 73,
   "metadata": {
    "collapsed": false
   },
   "outputs": [
    {
     "data": {
      "text/plain": [
       "2.0"
      ]
     },
     "execution_count": 73,
     "metadata": {},
     "output_type": "execute_result"
    }
   ],
   "source": [
    "hamilton(ivec,coefs)"
   ]
  },
  {
   "cell_type": "code",
   "execution_count": 75,
   "metadata": {
    "collapsed": false
   },
   "outputs": [],
   "source": [
    "chainN = 100\n",
    "coefs = randCoefs(coefs, symmetric=True)\n",
    "ivec = randInput(chainN)"
   ]
  },
  {
   "cell_type": "code",
   "execution_count": 77,
   "metadata": {
    "collapsed": false
   },
   "outputs": [
    {
     "data": {
      "text/plain": [
       "-67.400087449821001"
      ]
     },
     "execution_count": 77,
     "metadata": {},
     "output_type": "execute_result"
    }
   ],
   "source": [
    "hamilton(ivec,coefs)"
   ]
  },
  {
   "cell_type": "code",
   "execution_count": 82,
   "metadata": {
    "collapsed": false
   },
   "outputs": [
    {
     "name": "stdout",
     "output_type": "stream",
     "text": [
      "60.1167059772 -64.4021191507 -29.3086201031 -4.1351582183 -94.2011083378 62.1275207488 -61.8744079238 -18.1928573165 -74.2760647245 -28.4808513398 -3.32892207003 15.7130063729 -25.4322214284 -5.43991093506 -41.0702200353 -23.12690268 -67.1905649829 -5.13461010801 52.8813554165 -28.6840199149 -4.98087835384 19.066629303 -31.4217682113 -25.3265780146 24.7689851608 4.87157091413 -57.8325976631 -40.4800593494 -56.982282837 -64.0183515016 -46.0971498325 -26.4314671735 -101.091696893 -84.1140229375 -16.8174216846 -23.0274492099 -58.045506509 -31.9746924128 -16.8017044986 -38.9613113416 -62.7837888042 -6.75163602124 7.63274215971 14.6478847053 2.72663494922 25.0625669045 -44.0399983774 -116.285861427 17.2783024138 -92.6100024075 -6.04820032377 -58.8090922907 -3.4427050511 -9.85762440396 -34.531917404 -37.6792533915 -48.9066610046 13.8170013527 30.6268523915 -5.31216931152 -7.14112476267 2.99231087505 64.2853530284 -8.97615463286 10.1118131207 -21.9743037011 -24.6036964025 -103.949595872 50.7098640358 -49.1907361065 0.105647003942 -52.7296533014 -7.33769822993 -80.796871813 -11.5262444083 -38.9018248823 -22.2208542416 -81.5092902928 -92.8509946938 -41.4426810126 -17.1844889165 -22.0724482653 -22.0956320902 -8.93940911179 -50.3969069948 19.345860299 -30.5312851719 -26.629369752 -65.6840891438 61.8071393298 10.2543225915 -36.3560115266 -38.9385328666 -39.2145995144 8.73122854662 -85.8961693492 -39.0201359376 8.40232454323 -31.4002156578 -61.4118972452\n",
      "-24.5858170166 -2458.58170166\n"
     ]
    }
   ],
   "source": [
    "total = 0.\n",
    "average = 0.\n",
    "ntries = 100\n",
    "random.Random()\n",
    "for i in range(ntries):\n",
    "    h = hamilton(randInput(chainN),coefs)\n",
    "    total+= h\n",
    "    print h,\n",
    "average = total/ntries\n",
    "print\n",
    "print average, total"
   ]
  },
  {
   "cell_type": "code",
   "execution_count": 92,
   "metadata": {
    "collapsed": false
   },
   "outputs": [
    {
     "ename": "TypeError",
     "evalue": "can't multiply sequence by non-int of type 'float'",
     "output_type": "error",
     "traceback": [
      "\u001b[0;31m---------------------------------------------------------------------------\u001b[0m",
      "\u001b[0;31mTypeError\u001b[0m                                 Traceback (most recent call last)",
      "\u001b[0;32m<ipython-input-92-10164832fb9a>\u001b[0m in \u001b[0;36m<module>\u001b[0;34m()\u001b[0m\n\u001b[0;32m----> 1\u001b[0;31m \u001b[0;34m-\u001b[0m\u001b[0;36m2.\u001b[0m \u001b[0;34m+\u001b[0m \u001b[0;36m0.1\u001b[0m \u001b[0;34m*\u001b[0m \u001b[0mrange\u001b[0m\u001b[0;34m(\u001b[0m\u001b[0;36m10\u001b[0m\u001b[0;34m)\u001b[0m\u001b[0;34m\u001b[0m\u001b[0m\n\u001b[0m",
      "\u001b[0;31mTypeError\u001b[0m: can't multiply sequence by non-int of type 'float'"
     ]
    }
   ],
   "source": [
    "-2. + 0.1 * range(10)"
   ]
  },
  {
   "cell_type": "code",
   "execution_count": 97,
   "metadata": {
    "collapsed": false
   },
   "outputs": [
    {
     "name": "stdout",
     "output_type": "stream",
     "text": [
      "Initialized empty Git repository in /Users/deepak/root/code/ipython-notebooks/.git/\r\n"
     ]
    }
   ],
   "source": [
    "!git init"
   ]
  },
  {
   "cell_type": "code",
   "execution_count": 98,
   "metadata": {
    "collapsed": false
   },
   "outputs": [
    {
     "name": "stdout",
     "output_type": "stream",
     "text": [
      "On branch master\r\n",
      "\r\n",
      "Initial commit\r\n",
      "\r\n",
      "Untracked files:\r\n",
      "  (use \"git add <file>...\" to include in what will be committed)\r\n",
      "\r\n",
      "\t\u001b[31m.ipynb_checkpoints/\u001b[m\r\n",
      "\t\u001b[31mNov 5, 2014, file-mgmt.ipynb\u001b[m\r\n",
      "\t\u001b[31mOct-11-2014, Plotting Complex Functions.ipynb\u001b[m\r\n",
      "\t\u001b[31mOct-13-2014, QM with QuTiP again.ipynb\u001b[m\r\n",
      "\t\u001b[31mOct-14-2014 1 dim spin system.ipynb\u001b[m\r\n",
      "\t\u001b[31mPySide - interactive application programming.ipynb\u001b[m\r\n",
      "\t\u001b[31mSandbox.ipynb\u001b[m\r\n",
      "\t\u001b[31mmatplotlib-tilings.ipynb\u001b[m\r\n",
      "\t\u001b[31mopencv-video-processing.ipynb\u001b[m\r\n",
      "\t\u001b[31mplanck_fullsky.jpg\u001b[m\r\n",
      "\t\u001b[31mqcirc-0.png\u001b[m\r\n",
      "\t\u001b[31mqcirc-1.png\u001b[m\r\n",
      "\t\u001b[31mqcirc.pdf\u001b[m\r\n",
      "\t\u001b[31mqcirc.png\u001b[m\r\n",
      "\t\u001b[31mqcirc.tex\u001b[m\r\n",
      "\t\u001b[31mqutip-notebooks/\u001b[m\r\n",
      "\t\u001b[31mqutip-qm with python.ipynb\u001b[m\r\n",
      "\t\u001b[31msimple.bmp\u001b[m\r\n",
      "\t\u001b[31mspin-system-1d.ipynb\u001b[m\r\n",
      "\t\u001b[31mstatic/\u001b[m\r\n",
      "\t\u001b[31msympy - symbolic python.ipynb\u001b[m\r\n",
      "\r\n",
      "nothing added to commit but untracked files present (use \"git add\" to track)\r\n"
     ]
    }
   ],
   "source": [
    "!git status"
   ]
  },
  {
   "cell_type": "code",
   "execution_count": 99,
   "metadata": {
    "collapsed": true
   },
   "outputs": [],
   "source": [
    "!git add *.ipynb"
   ]
  },
  {
   "cell_type": "code",
   "execution_count": 100,
   "metadata": {
    "collapsed": false
   },
   "outputs": [
    {
     "name": "stdout",
     "output_type": "stream",
     "text": [
      "[master (root-commit) c4769d1] first commit. all ipy notebooks\r\n",
      " 11 files changed, 4756 insertions(+)\r\n",
      " create mode 100755 Nov 5, 2014, file-mgmt.ipynb\r\n",
      " create mode 100755 Oct-11-2014, Plotting Complex Functions.ipynb\r\n",
      " create mode 100755 Oct-13-2014, QM with QuTiP again.ipynb\r\n",
      " create mode 100755 Oct-14-2014 1 dim spin system.ipynb\r\n",
      " create mode 100755 PySide - interactive application programming.ipynb\r\n",
      " create mode 100755 Sandbox.ipynb\r\n",
      " create mode 100755 matplotlib-tilings.ipynb\r\n",
      " create mode 100755 opencv-video-processing.ipynb\r\n",
      " create mode 100755 qutip-qm with python.ipynb\r\n",
      " create mode 100755 spin-system-1d.ipynb\r\n",
      " create mode 100755 sympy - symbolic python.ipynb\r\n"
     ]
    }
   ],
   "source": [
    "!git commit -m \"first commit. all ipy notebooks\""
   ]
  },
  {
   "cell_type": "code",
   "execution_count": 101,
   "metadata": {
    "collapsed": false
   },
   "outputs": [
    {
     "name": "stdout",
     "output_type": "stream",
     "text": [
      "\u001b[31mNov 5, 2014, file-mgmt.ipynb\u001b[m\u001b[m                       qcirc-1.png\r\n",
      "\u001b[31mOct-11-2014, Plotting Complex Functions.ipynb\u001b[m\u001b[m      qcirc.pdf\r\n",
      "\u001b[31mOct-13-2014, QM with QuTiP again.ipynb\u001b[m\u001b[m             qcirc.png\r\n",
      "\u001b[31mOct-14-2014 1 dim spin system.ipynb\u001b[m\u001b[m                qcirc.tex\r\n",
      "\u001b[31mPySide - interactive application programming.ipynb\u001b[m\u001b[m \u001b[30m\u001b[43mqutip-notebooks\u001b[m\u001b[m\r\n",
      "\u001b[31mSandbox.ipynb\u001b[m\u001b[m                                      \u001b[31mqutip-qm with python.ipynb\u001b[m\u001b[m\r\n",
      "\u001b[31mmatplotlib-tilings.ipynb\u001b[m\u001b[m                           \u001b[31msimple.bmp\u001b[m\u001b[m\r\n",
      "\u001b[31mopencv-video-processing.ipynb\u001b[m\u001b[m                      \u001b[31mspin-system-1d.ipynb\u001b[m\u001b[m\r\n",
      "\u001b[31mplanck_fullsky.jpg\u001b[m\u001b[m                                 \u001b[30m\u001b[43mstatic\u001b[m\u001b[m\r\n",
      "qcirc-0.png                                        \u001b[31msympy - symbolic python.ipynb\u001b[m\u001b[m\r\n"
     ]
    }
   ],
   "source": [
    "!cd qutip-notebooks/\n",
    "!ls"
   ]
  },
  {
   "cell_type": "code",
   "execution_count": 102,
   "metadata": {
    "collapsed": true
   },
   "outputs": [],
   "source": [
    "!cd qutip-notebooks"
   ]
  },
  {
   "cell_type": "code",
   "execution_count": 103,
   "metadata": {
    "collapsed": false
   },
   "outputs": [
    {
     "name": "stdout",
     "output_type": "stream",
     "text": [
      "/Users/deepak/root/code/ipython-notebooks\r\n"
     ]
    }
   ],
   "source": [
    "!pwd"
   ]
  },
  {
   "cell_type": "code",
   "execution_count": 104,
   "metadata": {
    "collapsed": false
   },
   "outputs": [
    {
     "name": "stdout",
     "output_type": "stream",
     "text": [
      "/bin/sh: lcd: command not found\r\n"
     ]
    }
   ],
   "source": [
    "!lcd qutip-notebooks"
   ]
  },
  {
   "cell_type": "code",
   "execution_count": null,
   "metadata": {
    "collapsed": true
   },
   "outputs": [],
   "source": []
  }
 ],
 "metadata": {
  "kernelspec": {
   "display_name": "Python 3",
   "language": "python",
   "name": "python3"
  },
  "language_info": {
   "codemirror_mode": {
    "name": "ipython",
    "version": 3
   },
   "file_extension": ".py",
   "mimetype": "text/x-python",
   "name": "python",
   "nbconvert_exporter": "python",
   "pygments_lexer": "ipython3",
   "version": "3.5.1"
  },
  "latex_envs": {
   "bibliofile": "biblio.bib",
   "cite_by": "apalike",
   "current_citInitial": 1,
   "eqLabelWithNumbers": true,
   "eqNumInitial": 0
  }
 },
 "nbformat": 4,
 "nbformat_minor": 0
}
