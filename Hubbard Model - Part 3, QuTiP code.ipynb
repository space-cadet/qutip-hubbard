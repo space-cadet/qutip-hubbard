{
 "cells": [
  {
   "cell_type": "markdown",
   "metadata": {
    "toc": true
   },
   "source": [
    "<h1>Table of Contents<span class=\"tocSkip\"></span></h1>\n",
    "<div class=\"toc\"><ul class=\"toc-item\"><li><span><a href=\"#Mathjax-custom-macros\" data-toc-modified-id=\"Mathjax-custom-macros-1\" data-vivaldi-spatnav-clickable=\"1\"><span class=\"toc-item-num\">1&nbsp;&nbsp;</span>Mathjax custom macros</a></span></li><li><span><a href=\"#Hubbard-Model\" data-toc-modified-id=\"Hubbard-Model-2\" data-vivaldi-spatnav-clickable=\"1\"><span class=\"toc-item-num\">2&nbsp;&nbsp;</span>Hubbard Model</a></span><ul class=\"toc-item\"><li><span><a href=\"#Hamiltonian\" data-toc-modified-id=\"Hamiltonian-2.1\" data-vivaldi-spatnav-clickable=\"1\"><span class=\"toc-item-num\">2.1&nbsp;&nbsp;</span>Hamiltonian</a></span></li><li><span><a href=\"#Partition-Function\" data-toc-modified-id=\"Partition-Function-2.2\" data-vivaldi-spatnav-clickable=\"1\"><span class=\"toc-item-num\">2.2&nbsp;&nbsp;</span>Partition Function</a></span></li><li><span><a href=\"#Energy\" data-toc-modified-id=\"Energy-2.3\" data-vivaldi-spatnav-clickable=\"1\"><span class=\"toc-item-num\">2.3&nbsp;&nbsp;</span>Energy</a></span></li><li><span><a href=\"#Occupation-Number\" data-toc-modified-id=\"Occupation-Number-2.4\" data-vivaldi-spatnav-clickable=\"1\"><span class=\"toc-item-num\">2.4&nbsp;&nbsp;</span>Occupation Number</a></span></li></ul></li><li><span><a href=\"#Operators-and-States-in-QuTiP\" data-toc-modified-id=\"Operators-and-States-in-QuTiP-3\" data-vivaldi-spatnav-clickable=\"1\"><span class=\"toc-item-num\">3&nbsp;&nbsp;</span>Operators and States in QuTiP</a></span><ul class=\"toc-item\"><li><span><a href=\"#Operators-for-many-body-systems-in-1D\" data-toc-modified-id=\"Operators-for-many-body-systems-in-1D-3.1\" data-vivaldi-spatnav-clickable=\"1\"><span class=\"toc-item-num\">3.1&nbsp;&nbsp;</span>Operators for many-body systems in 1D</a></span></li><li><span><a href=\"#Utility-Functions\" data-toc-modified-id=\"Utility-Functions-3.2\" data-vivaldi-spatnav-clickable=\"1\"><span class=\"toc-item-num\">3.2&nbsp;&nbsp;</span>Utility Functions</a></span></li><li><span><a href=\"#Position-Representation-Operators\" data-toc-modified-id=\"Position-Representation-Operators-3.3\" data-vivaldi-spatnav-clickable=\"1\"><span class=\"toc-item-num\">3.3&nbsp;&nbsp;</span>Position Representation Operators</a></span></li><li><span><a href=\"#Operators-for-Many-Body-Systems-in-2D\" data-toc-modified-id=\"Operators-for-Many-Body-Systems-in-2D-3.4\" data-vivaldi-spatnav-clickable=\"1\"><span class=\"toc-item-num\">3.4&nbsp;&nbsp;</span>Operators for Many Body Systems in 2D</a></span></li><li><span><a href=\"#Utility-Functions\" data-toc-modified-id=\"Utility-Functions-3.5\" data-vivaldi-spatnav-clickable=\"1\"><span class=\"toc-item-num\">3.5&nbsp;&nbsp;</span>Utility Functions</a></span></li></ul></li><li><span><a href=\"#Unitary-Transformations\" data-toc-modified-id=\"Unitary-Transformations-4\" data-vivaldi-spatnav-clickable=\"1\"><span class=\"toc-item-num\">4&nbsp;&nbsp;</span>Unitary Transformations</a></span></li><li><span><a href=\"#Momentum-Representation\" data-toc-modified-id=\"Momentum-Representation-5\" data-vivaldi-spatnav-clickable=\"1\"><span class=\"toc-item-num\">5&nbsp;&nbsp;</span>Momentum Representation</a></span><ul class=\"toc-item\"><li><span><a href=\"#Position-to-Momentum-Space\" data-toc-modified-id=\"Position-to-Momentum-Space-5.1\" data-vivaldi-spatnav-clickable=\"1\"><span class=\"toc-item-num\">5.1&nbsp;&nbsp;</span>Position to Momentum Space</a></span></li><li><span><a href=\"#Momentum-Space-Operators\" data-toc-modified-id=\"Momentum-Space-Operators-5.2\" data-vivaldi-spatnav-clickable=\"1\"><span class=\"toc-item-num\">5.2&nbsp;&nbsp;</span>Momentum Space Operators</a></span></li><li><span><a href=\"#Correct-Interpretation-of-Indices\" data-toc-modified-id=\"Correct-Interpretation-of-Indices-5.3\" data-vivaldi-spatnav-clickable=\"1\"><span class=\"toc-item-num\">5.3&nbsp;&nbsp;</span>Correct Interpretation of Indices</a></span></li></ul></li><li><span><a href=\"#Model-Hamiltonians\" data-toc-modified-id=\"Model-Hamiltonians-6\" data-vivaldi-spatnav-clickable=\"1\"><span class=\"toc-item-num\">6&nbsp;&nbsp;</span>Model Hamiltonians</a></span><ul class=\"toc-item\"><li><span><a href=\"#Hubbard-Hamiltonian-Code\" data-toc-modified-id=\"Hubbard-Hamiltonian-Code-6.1\" data-vivaldi-spatnav-clickable=\"1\"><span class=\"toc-item-num\">6.1&nbsp;&nbsp;</span>Hubbard Hamiltonian Code</a></span></li><li><span><a href=\"#Ising-Hamiltonian-Code\" data-toc-modified-id=\"Ising-Hamiltonian-Code-6.2\" data-vivaldi-spatnav-clickable=\"1\"><span class=\"toc-item-num\">6.2&nbsp;&nbsp;</span>Ising Hamiltonian Code</a></span></li><li><span><a href=\"#Ising-Model-in-Transverse-Field-Hamiltonian-Code\" data-toc-modified-id=\"Ising-Model-in-Transverse-Field-Hamiltonian-Code-6.3\" data-vivaldi-spatnav-clickable=\"1\"><span class=\"toc-item-num\">6.3&nbsp;&nbsp;</span>Ising Model in Transverse Field Hamiltonian Code</a></span></li><li><span><a href=\"#Heisenberg-Spin-Chain\" data-toc-modified-id=\"Heisenberg-Spin-Chain-6.4\" data-vivaldi-spatnav-clickable=\"1\"><span class=\"toc-item-num\">6.4&nbsp;&nbsp;</span>Heisenberg Spin-Chain</a></span></li></ul></li><li><span><a href=\"#Hamiltonian-Class-Defintion\" data-toc-modified-id=\"Hamiltonian-Class-Defintion-7\" data-vivaldi-spatnav-clickable=\"1\"><span class=\"toc-item-num\">7&nbsp;&nbsp;</span><code>Hamiltonian</code> Class Defintion</a></span></li><li><span><a href=\"#Vacuum-State,-Basis-States\" data-toc-modified-id=\"Vacuum-State,-Basis-States-8\" data-vivaldi-spatnav-clickable=\"1\"><span class=\"toc-item-num\">8&nbsp;&nbsp;</span>Vacuum State, Basis States</a></span></li><li><span><a href=\"#Jordan-Wigner-Transformation\" data-toc-modified-id=\"Jordan-Wigner-Transformation-9\" data-vivaldi-spatnav-clickable=\"1\"><span class=\"toc-item-num\">9&nbsp;&nbsp;</span>Jordan-Wigner Transformation</a></span></li><li><span><a href=\"#Schmidt-Decomposition-(Singular-Value-Decomposition)\" data-toc-modified-id=\"Schmidt-Decomposition-(Singular-Value-Decomposition)-10\" data-vivaldi-spatnav-clickable=\"1\"><span class=\"toc-item-num\">10&nbsp;&nbsp;</span>Schmidt Decomposition (Singular Value Decomposition)</a></span></li><li><span><a href=\"#Sandbox\" data-toc-modified-id=\"Sandbox-11\" data-vivaldi-spatnav-clickable=\"1\"><span class=\"toc-item-num\">11&nbsp;&nbsp;</span>Sandbox</a></span></li></ul></div>"
   ]
  },
  {
   "cell_type": "markdown",
   "metadata": {
    "collapsed": true
   },
   "source": [
    "# Mathjax custom macros\n",
    "\n",
    "$ \\newcommand{\\opexpect}[3]{\\langle #1 \\vert #2 \\vert #3 \\rangle} $\n",
    "$ \\newcommand{\\rarrow}{\\rightarrow} $\n",
    "$ \\newcommand{\\bra}{\\langle} $\n",
    "$ \\newcommand{\\ket}{\\rangle} $\n",
    "\n",
    "$ \\newcommand{\\up}{\\uparrow} $\n",
    "$ \\newcommand{\\down}{\\downarrow} $\n",
    "\n",
    "$ \\newcommand{\\mb}[1]{\\mathbf{#1}} $\n",
    "$ \\newcommand{\\mc}[1]{\\mathcal{#1}} $\n",
    "$ \\newcommand{\\mbb}[1]{\\mathbb{#1}} $\n",
    "$ \\newcommand{\\mf}[1]{\\mathfrak{#1}} $\n",
    "\n",
    "$ \\newcommand{\\vect}[1]{\\boldsymbol{\\mathrm{#1}}} $\n",
    "$ \\newcommand{\\expect}[1]{\\langle #1\\rangle} $\n",
    "\n",
    "$ \\newcommand{\\innerp}[2]{\\langle #1 \\vert #2 \\rangle} $\n",
    "$ \\newcommand{\\fullbra}[1]{\\langle #1 \\vert} $\n",
    "$ \\newcommand{\\fullket}[1]{\\vert #1 \\rangle} $\n",
    "$ \\newcommand{\\supersc}[1]{^{\\text{#1}}} $\n",
    "$ \\newcommand{\\subsc}[1]{_{\\text{#1}}} $\n",
    "$ \\newcommand{\\sltwoc}{SL(2,\\mathbb{C})} $\n",
    "$ \\newcommand{\\sltwoz}{SL(2,\\mathbb{Z})} $\n",
    "\n",
    "$ \\newcommand{\\utilde}[1]{\\underset{\\sim}{#1}} $"
   ]
  },
  {
   "cell_type": "code",
   "execution_count": 1,
   "metadata": {},
   "outputs": [],
   "source": [
    "import matplotlib\n",
    "matplotlib.use('qt4agg')\n",
    "%matplotlib inline"
   ]
  },
  {
   "cell_type": "code",
   "execution_count": 2,
   "metadata": {},
   "outputs": [],
   "source": [
    "import numpy as np\n",
    "import matplotlib.pyplot as plt\n",
    "from qutip import *"
   ]
  },
  {
   "cell_type": "markdown",
   "metadata": {},
   "source": [
    "# Hubbard Model\n",
    "\n",
    "## Hamiltonian\n",
    "\n",
    "$$ H_{h} = -t \\sum_{<i,j>\\sigma} c^\\dagger_{i\\sigma} c_{j\\sigma} + U \\sum_i n_{i\\uparrow}n_{j\\downarrow} - \\mu \\sum_i (n_{i\\uparrow} + n_{i\\downarrow}) $$\n",
    "\n",
    "where the first term is the kinetic energy. The sum is over both possible spin at each lattice site $ \\sigma \\in \\{\\uparrow,\\downarrow\\}$. Second term is the potential energy due to repulsion of electrons at a site containing two electrons. The last term is the chemical potential associated with adding particles to the system.\n",
    "\n",
    "The partition function for a system in a thermal state is given by:\n",
    "\n",
    "$$ Z = \\text{Tr} \\left[ e^{-\\beta H} \\right] = \\sum_\\alpha \\langle \\alpha \\vert e^{-\\beta H} \\vert \\alpha \\rangle  $$\n",
    "\n",
    "## Partition Function\n",
    "\n",
    "For $ H_{h} $ on a single site, the partition function becomes:\n",
    "\n",
    "$$ Z_{h} = 1 + e^{\\beta(\\mu + t)} + e^{\\beta(2t + 2\\mu - U)} $$\n",
    "\n",
    "If we redefine the chemical potential $ \\mu \\rightarrow \\mu + U/2$, then the Hubbard hamiltonian becomes:\n",
    "\n",
    "$$ H = -t \\sum_{<i,j>\\sigma} c^\\dagger_{i\\sigma} c_{j\\sigma} + U \\sum_i \\left(n_{i\\uparrow} - \\frac{1}{2}\\right) \\left(n_{j\\downarrow} - \\frac{1}{2}\\right) - \\mu \\sum_i (n_{i\\uparrow} + n_{i\\downarrow}) $$"
   ]
  },
  {
   "cell_type": "markdown",
   "metadata": {},
   "source": [
    "## Energy\n",
    "\n",
    "The energy for the single site Hubbard model is:\n",
    "\n",
    "\\begin{align}\n",
    "    E & = \\langle H + \\mu n \\rangle = \\text{Tr} \\left[ (H + \\mu n) e^{-\\beta H} \\right] \\\\\n",
    "      & = \\frac{1}{Z} \\sum_\\alpha \\langle \\alpha \\vert (H + \\mu n) e^{-\\beta H} \\vert \\alpha \\rangle \\\\ \n",
    "      & = \\frac{U e^{2\\beta(t+\\mu - U/2)}}{1 + e^{\\beta(\\mu + t)} + e^{\\beta(2t + 2\\mu - U)}}\n",
    "\\end{align}\n",
    "\n",
    "## Occupation Number\n",
    "\n",
    "and the occupation number is:\n",
    "\n",
    "\\begin{align}\n",
    "    \\rho & = \\langle n \\rangle = \\text{Tr} \\left[ n e^{-\\beta H} \\right] \\\\\n",
    "         & = \\frac{2 e^{\\beta(\\mu + t)} + 2 e^{2\\beta(t+\\mu-U/2)}}{1 + e^{\\beta(\\mu + t)} + e^{\\beta(2t + 2\\mu - U)}}\n",
    "\\end{align}"
   ]
  },
  {
   "cell_type": "markdown",
   "metadata": {},
   "source": [
    "# Operators and States in QuTiP"
   ]
  },
  {
   "cell_type": "markdown",
   "metadata": {},
   "source": [
    "Rather than using the analytical expression for the partition function, energy and other properties of the one-site Hubbard model, we will now use the Python package [QuTiP](http://qutip.org/) to define the Hubbard model Hamiltonian on $N$ sites. For this we will need to define creation, annihilation and number operators.\n",
    "\n",
    "For a single site system a creation operator is simply defined using the `create()` function:\n",
    "\n",
    "$$\\text{create(2)} \\Rightarrow c^\\dagger$$\n",
    "\n",
    "which returns the matrix:\n",
    "\n",
    "\\begin{equation*}\\left(\\begin{array}{*{11}c}0.0 & 0.0\\\\1.0 & 0.0\\\\\\end{array}\\right)\\end{equation*}"
   ]
  },
  {
   "cell_type": "code",
   "execution_count": 8,
   "metadata": {},
   "outputs": [
    {
     "data": {
      "text/latex": [
       "Quantum object: dims = [[2], [2]], shape = [2, 2], type = oper, isherm = False\\begin{equation*}\\left(\\begin{array}{*{11}c}0.0 & 0.0\\\\1.0 & 0.0\\\\\\end{array}\\right)\\end{equation*}"
      ],
      "text/plain": [
       "Quantum object: dims = [[2], [2]], shape = [2, 2], type = oper, isherm = False\n",
       "Qobj data =\n",
       "[[ 0.  0.]\n",
       " [ 1.  0.]]"
      ]
     },
     "execution_count": 8,
     "metadata": {},
     "output_type": "execute_result"
    }
   ],
   "source": [
    "create(2)"
   ]
  },
  {
   "cell_type": "markdown",
   "metadata": {},
   "source": [
    "## Operators for many-body systems in 1D\n",
    "\n",
    "When we have more than one site, the operator must be defined as an operator acting of the *full* Hilbert space of the system:\n",
    "$$ \\mc{H} = \\otimes_{i=1}^N \\mc{H}_i $$\n",
    "where $\\mc{H}_i$ is the Hilbert space corresponding to a single site. Thus the creation operator for the $j^\\text{th}$ site is given by:\n",
    "$$ \\mb{1}_1 \\otimes \\ldots \\mb{1}_{j-1} \\otimes c^\\dagger_j \\otimes \\mb{1}_{j+1} \\ldots \\mb{1}_N $$\n",
    "where $\\mb{1}_i$ is the identity operator acting on the $i^\\text{th}$ site.\n",
    "\n",
    "The code for this is as follows:"
   ]
  },
  {
   "cell_type": "markdown",
   "metadata": {},
   "source": [
    "## Utility Functions"
   ]
  },
  {
   "cell_type": "code",
   "execution_count": 3,
   "metadata": {},
   "outputs": [],
   "source": [
    "def identityList(N = 1,dims = 2):\n",
    "    '''Returns a list of N identity operators for a N site spin-system with a\n",
    "    Hilber space at each state of dimensionality dims \n",
    "    '''\n",
    "\n",
    "    iden = identity(dims)\n",
    "    \n",
    "    iden_list = []\n",
    "\n",
    "    [iden_list.append(iden) for i in range(N)]\n",
    "    \n",
    "    return iden_list"
   ]
  },
  {
   "cell_type": "markdown",
   "metadata": {},
   "source": [
    "## Position Representation Operators"
   ]
  },
  {
   "cell_type": "code",
   "execution_count": 4,
   "metadata": {},
   "outputs": [],
   "source": [
    "def posOperatorN(oper, i = 0, N = 1):\n",
    "    '''Returns the operator given by oper, in the position representation, for the i^th site of an N site spin-chain\n",
    "    with a Hilbert space, of dimension compatible with the dimension of the operator, at each site'''\n",
    "    \n",
    "    if not isinstance(oper, Qobj):\n",
    "        raise TypeError('oper must of type qutip.Qobj')\n",
    "    \n",
    "    if not oper.isoper:\n",
    "        raise ValueError('oper must be a qutip operator')\n",
    "    \n",
    "    shape = oper.shape\n",
    "\n",
    "    if shape[0] == shape[1]:\n",
    "        dims = shape[0]\n",
    "    else:\n",
    "        raise ValueError('oper must be a square matrix')\n",
    "    \n",
    "    if oper == identity(oper.shape[0]):\n",
    "        return tensor(identityList(N,oper.shape[0]))\n",
    "    else:\n",
    "        iden_list = identityList(N, oper.shape[0])\n",
    "        iden_list[i] = oper\n",
    "        return tensor(iden_list)"
   ]
  },
  {
   "cell_type": "code",
   "execution_count": 5,
   "metadata": {},
   "outputs": [],
   "source": [
    "def posCreationOpN(i=0, N=10):\n",
    "    '''Returns the creation operator in the position representation for the i^th site of an N site spin-chain\n",
    "    with a Hilbert space of dimensionality dims at each site'''\n",
    "    \n",
    "    return posOperatorN(create(2),i,N)"
   ]
  },
  {
   "cell_type": "code",
   "execution_count": 6,
   "metadata": {},
   "outputs": [],
   "source": [
    "def posDestructionOpN(i=0, N=10):\n",
    "    '''Returns the destruction operator in the position representation for the i^th site of an N site spin-chain\n",
    "    with a Hilbert space of dimensionality dims at each site'''\n",
    "    \n",
    "    return posOperatorN(destroy(2),i,N)"
   ]
  },
  {
   "cell_type": "code",
   "execution_count": 7,
   "metadata": {},
   "outputs": [],
   "source": [
    "def posOperHamiltonian(oper, N = 10, coefs = [1]*10, dims=2):\n",
    "    ''' Returns the Hamiltonian, in position representation, given by the sum of oper acting on each site\n",
    "    with a weight given by the values in coefs\n",
    "    '''\n",
    "    \n",
    "    if not isinstance(oper, Qobj):\n",
    "        raise ValueError('oper must be of type Qobj')\n",
    "    else:\n",
    "        if not oper.isoper:\n",
    "            raise ValueError('oper must be an operator')\n",
    "    \n",
    "    H = 0\n",
    "    \n",
    "    for i in range(N):\n",
    "        op_list = identityList(N, dims)\n",
    "        op_list[i] = oper\n",
    "        H += coefs[i]*tensor(op_list)\n",
    "    \n",
    "    return H"
   ]
  },
  {
   "cell_type": "code",
   "execution_count": 8,
   "metadata": {},
   "outputs": [
    {
     "data": {
      "text/latex": [
       "Quantum object: dims = [[2, 2, 2, 2, 2], [2, 2, 2, 2, 2]], shape = (32, 32), type = oper, isherm = True\\begin{equation*}\\left(\\begin{array}{*{11}c}1.0 & 0.0 & 0.0 & 0.0 & 0.0 & \\cdots & 0.0 & 0.0 & 0.0 & 0.0 & 0.0\\\\0.0 & -1.0 & 0.0 & 0.0 & 0.0 & \\cdots & 0.0 & 0.0 & 0.0 & 0.0 & 0.0\\\\0.0 & 0.0 & 1.0 & 0.0 & 0.0 & \\cdots & 0.0 & 0.0 & 0.0 & 0.0 & 0.0\\\\0.0 & 0.0 & 0.0 & -1.0 & 0.0 & \\cdots & 0.0 & 0.0 & 0.0 & 0.0 & 0.0\\\\0.0 & 0.0 & 0.0 & 0.0 & 1.0 & \\cdots & 0.0 & 0.0 & 0.0 & 0.0 & 0.0\\\\\\vdots & \\vdots & \\vdots & \\vdots & \\vdots & \\ddots & \\vdots & \\vdots & \\vdots & \\vdots & \\vdots\\\\0.0 & 0.0 & 0.0 & 0.0 & 0.0 & \\cdots & -1.0 & 0.0 & 0.0 & 0.0 & 0.0\\\\0.0 & 0.0 & 0.0 & 0.0 & 0.0 & \\cdots & 0.0 & 1.0 & 0.0 & 0.0 & 0.0\\\\0.0 & 0.0 & 0.0 & 0.0 & 0.0 & \\cdots & 0.0 & 0.0 & -1.0 & 0.0 & 0.0\\\\0.0 & 0.0 & 0.0 & 0.0 & 0.0 & \\cdots & 0.0 & 0.0 & 0.0 & 1.0 & 0.0\\\\0.0 & 0.0 & 0.0 & 0.0 & 0.0 & \\cdots & 0.0 & 0.0 & 0.0 & 0.0 & -1.0\\\\\\end{array}\\right)\\end{equation*}"
      ],
      "text/plain": [
       "Quantum object: dims = [[2, 2, 2, 2, 2], [2, 2, 2, 2, 2]], shape = (32, 32), type = oper, isherm = True\n",
       "Qobj data =\n",
       "[[ 1.  0.  0. ...,  0.  0.  0.]\n",
       " [ 0. -1.  0. ...,  0.  0.  0.]\n",
       " [ 0.  0.  1. ...,  0.  0.  0.]\n",
       " ..., \n",
       " [ 0.  0.  0. ..., -1.  0.  0.]\n",
       " [ 0.  0.  0. ...,  0.  1.  0.]\n",
       " [ 0.  0.  0. ...,  0.  0. -1.]]"
      ]
     },
     "execution_count": 8,
     "metadata": {},
     "output_type": "execute_result"
    }
   ],
   "source": [
    "# To get the number operator at the 3rd site, in a N=5 site system, we do the following\n",
    "numOp = create(2)*destroy(2)\n",
    "posOperatorN(sigmaz(), N=5, i=4)"
   ]
  },
  {
   "cell_type": "markdown",
   "metadata": {},
   "source": [
    "## Operators for Many Body Systems in 2D"
   ]
  },
  {
   "cell_type": "markdown",
   "metadata": {},
   "source": [
    "## Utility Functions"
   ]
  },
  {
   "cell_type": "code",
   "execution_count": 9,
   "metadata": {},
   "outputs": [],
   "source": [
    "def idOpList2D(latt_size=(1,1), dims = 2):\n",
    "    '''Returns a 2d list of identity operators for a 2D spin-system of size given by latt_size with a\n",
    "    Hilbert space at each state of dimensionality dims.\n",
    "    '''\n",
    "    \n",
    "    iden = identity(dims)\n",
    "    \n",
    "#    iden_list = [[0 for x in range(latt_size[0])] for y in range(latt_size[1])] # initialize empty list\n",
    "\n",
    "    iden_list = np.ndarray(tuple(latt_size),dtype=Qobj)\n",
    "\n",
    "#    [iden_list[i].append(iden) for i in range(latt_size[0]) for j in range(latt_size[1])] # assign identity op to each element of list\n",
    "\n",
    "    for i in range(latt_size[0]):\n",
    "        for j in range(latt_size[1]):\n",
    "            iden_list[i][j] = iden\n",
    "    \n",
    "    return iden_list"
   ]
  },
  {
   "cell_type": "code",
   "execution_count": 10,
   "metadata": {},
   "outputs": [
    {
     "data": {
      "text/plain": [
       "array([[ Quantum object: dims = [[2], [2]], shape = (2, 2), type = oper, isherm = True\n",
       "Qobj data =\n",
       "[[ 1.  0.]\n",
       " [ 0.  1.]],\n",
       "        Quantum object: dims = [[2], [2]], shape = (2, 2), type = oper, isherm = True\n",
       "Qobj data =\n",
       "[[ 1.  0.]\n",
       " [ 0.  1.]]],\n",
       "       [ Quantum object: dims = [[2], [2]], shape = (2, 2), type = oper, isherm = True\n",
       "Qobj data =\n",
       "[[ 1.  0.]\n",
       " [ 0.  1.]],\n",
       "        Quantum object: dims = [[2], [2]], shape = (2, 2), type = oper, isherm = True\n",
       "Qobj data =\n",
       "[[ 1.  0.]\n",
       " [ 0.  1.]]]], dtype=object)"
      ]
     },
     "execution_count": 10,
     "metadata": {},
     "output_type": "execute_result"
    }
   ],
   "source": [
    "idOpList2D((2,2))"
   ]
  },
  {
   "cell_type": "code",
   "execution_count": 11,
   "metadata": {},
   "outputs": [],
   "source": [
    "def posOp2d(oper, pos = (0,0), latt_size = (1,1) ):\n",
    "    '''Returns QuTiP operator in position representation defined on site (i,j) passed as argument pos, of 2d lattice\n",
    "    of size specified in tuple latt_size.\n",
    "    '''\n",
    "    \n",
    "    if not isinstance(oper, Qobj):\n",
    "        raise TypeError('oper must of type qutip.Qobj')\n",
    "    \n",
    "    if not oper.isoper:\n",
    "        raise ValueError('oper must be a qutip operator')\n",
    "        \n",
    "    shape = oper.shape\n",
    "\n",
    "    if shape[0] == shape[1]:\n",
    "        dims = shape[0]\n",
    "    else:\n",
    "        raise ValueError('oper must be a square matrix')\n",
    "        \n",
    "    if (not isinstance(pos, tuple)) or (not isinstance(latt_size, tuple)):\n",
    "        raise TypeError('pos and latt_size must be tuples')\n",
    "        \n",
    "    if len(pos)!=len(latt_size):\n",
    "        raise ValueError('pos and latt_size must be of same size')\n",
    "        \n",
    "    if pos[0]>=latt_size[0] or pos[1]>=latt_size[1]:\n",
    "        raise IndexError('Lattice position out of bounds')\n",
    "    \n",
    "    idOp = idOpList2D(latt_size,dims)\n",
    "    \n",
    "    idOp[pos[0]][pos[1]] = oper\n",
    "    \n",
    "    op_list = []\n",
    "    \n",
    "    for i in range(latt_size[0]):\n",
    "        for j in range(latt_size[1]):\n",
    "            op_list.append(idOp[i][j])\n",
    "\n",
    "#    if oper == identity(dims):\n",
    "#        return tensor(op_list)\n",
    "#    else:\n",
    "#        op_list[pos[0]*latt_size[1]+pos[1]] = oper\n",
    "    return tensor(op_list)\n",
    "    "
   ]
  },
  {
   "cell_type": "code",
   "execution_count": 12,
   "metadata": {},
   "outputs": [
    {
     "data": {
      "text/latex": [
       "Quantum object: dims = [[2, 2, 2, 2, 2, 2, 2, 2, 2, 2, 2, 2, 2, 2, 2, 2], [2, 2, 2, 2, 2, 2, 2, 2, 2, 2, 2, 2, 2, 2, 2, 2]], shape = (65536, 65536), type = oper, isherm = False\\begin{equation*}\\left(\\begin{array}{*{11}c}0.0 & 0.0 & 0.0 & 0.0 & 0.0 & \\cdots & 0.0 & 0.0 & 0.0 & 0.0 & 0.0\\\\0.0 & 0.0 & 0.0 & 0.0 & 0.0 & \\cdots & 0.0 & 0.0 & 0.0 & 0.0 & 0.0\\\\0.0 & 0.0 & 0.0 & 0.0 & 0.0 & \\cdots & 0.0 & 0.0 & 0.0 & 0.0 & 0.0\\\\0.0 & 0.0 & 0.0 & 0.0 & 0.0 & \\cdots & 0.0 & 0.0 & 0.0 & 0.0 & 0.0\\\\0.0 & 0.0 & 0.0 & 0.0 & 0.0 & \\cdots & 0.0 & 0.0 & 0.0 & 0.0 & 0.0\\\\\\vdots & \\vdots & \\vdots & \\vdots & \\vdots & \\ddots & \\vdots & \\vdots & \\vdots & \\vdots & \\vdots\\\\0.0 & 0.0 & 0.0 & 0.0 & 0.0 & \\cdots & 0.0 & 0.0 & 0.0 & 0.0 & 0.0\\\\0.0 & 0.0 & 0.0 & 0.0 & 0.0 & \\cdots & 0.0 & 0.0 & 0.0 & 0.0 & 0.0\\\\0.0 & 0.0 & 0.0 & 0.0 & 0.0 & \\cdots & 0.0 & 0.0 & 0.0 & 0.0 & 0.0\\\\0.0 & 0.0 & 0.0 & 0.0 & 0.0 & \\cdots & 0.0 & 0.0 & 0.0 & 0.0 & 0.0\\\\0.0 & 0.0 & 0.0 & 0.0 & 0.0 & \\cdots & 0.0 & 0.0 & 0.0 & 0.0 & 0.0\\\\\\end{array}\\right)\\end{equation*}"
      ],
      "text/plain": [
       "Quantum object: dims = [[2, 2, 2, 2, 2, 2, 2, 2, 2, 2, 2, 2, 2, 2, 2, 2], [2, 2, 2, 2, 2, 2, 2, 2, 2, 2, 2, 2, 2, 2, 2, 2]], shape = (65536, 65536), type = oper, isherm = False\n",
       "Qobj data =\n",
       "  (16, 0)\t(1+0j)\n",
       "  (17, 1)\t(1+0j)\n",
       "  (18, 2)\t(1+0j)\n",
       "  (19, 3)\t(1+0j)\n",
       "  (20, 4)\t(1+0j)\n",
       "  (21, 5)\t(1+0j)\n",
       "  (22, 6)\t(1+0j)\n",
       "  (23, 7)\t(1+0j)\n",
       "  (24, 8)\t(1+0j)\n",
       "  (25, 9)\t(1+0j)\n",
       "  (26, 10)\t(1+0j)\n",
       "  (27, 11)\t(1+0j)\n",
       "  (28, 12)\t(1+0j)\n",
       "  (29, 13)\t(1+0j)\n",
       "  (30, 14)\t(1+0j)\n",
       "  (31, 15)\t(1+0j)\n",
       "  (48, 32)\t(1+0j)\n",
       "  (49, 33)\t(1+0j)\n",
       "  (50, 34)\t(1+0j)\n",
       "  (51, 35)\t(1+0j)\n",
       "  (52, 36)\t(1+0j)\n",
       "  (53, 37)\t(1+0j)\n",
       "  (54, 38)\t(1+0j)\n",
       "  (55, 39)\t(1+0j)\n",
       "  (56, 40)\t(1+0j)\n",
       "  :\t:\n",
       "  (65495, 65479)\t(1+0j)\n",
       "  (65496, 65480)\t(1+0j)\n",
       "  (65497, 65481)\t(1+0j)\n",
       "  (65498, 65482)\t(1+0j)\n",
       "  (65499, 65483)\t(1+0j)\n",
       "  (65500, 65484)\t(1+0j)\n",
       "  (65501, 65485)\t(1+0j)\n",
       "  (65502, 65486)\t(1+0j)\n",
       "  (65503, 65487)\t(1+0j)\n",
       "  (65520, 65504)\t(1+0j)\n",
       "  (65521, 65505)\t(1+0j)\n",
       "  (65522, 65506)\t(1+0j)\n",
       "  (65523, 65507)\t(1+0j)\n",
       "  (65524, 65508)\t(1+0j)\n",
       "  (65525, 65509)\t(1+0j)\n",
       "  (65526, 65510)\t(1+0j)\n",
       "  (65527, 65511)\t(1+0j)\n",
       "  (65528, 65512)\t(1+0j)\n",
       "  (65529, 65513)\t(1+0j)\n",
       "  (65530, 65514)\t(1+0j)\n",
       "  (65531, 65515)\t(1+0j)\n",
       "  (65532, 65516)\t(1+0j)\n",
       "  (65533, 65517)\t(1+0j)\n",
       "  (65534, 65518)\t(1+0j)\n",
       "  (65535, 65519)\t(1+0j)"
      ]
     },
     "execution_count": 12,
     "metadata": {},
     "output_type": "execute_result"
    }
   ],
   "source": [
    "posOp2d(create(2),latt_size=(4,4),pos=(2,3))"
   ]
  },
  {
   "cell_type": "markdown",
   "metadata": {},
   "source": [
    "With only a four-four spin $1/2$ lattice (sixteen sites in all), the dimension of the Hilbert space constructed by taking the tensor product of the Hilbert space at each site becomes:\n",
    "\n",
    "$$ 2^{16} = 65536 $$\n",
    "\n",
    "As such, the tensor product method of constructing the Hamiltonian and then solving for its eigenstates is not practical for systems of any meaningful extent!"
   ]
  },
  {
   "cell_type": "code",
   "execution_count": 13,
   "metadata": {},
   "outputs": [
    {
     "data": {
      "text/plain": [
       "65536"
      ]
     },
     "execution_count": 13,
     "metadata": {},
     "output_type": "execute_result"
    }
   ],
   "source": [
    "2**16"
   ]
  },
  {
   "cell_type": "code",
   "execution_count": 14,
   "metadata": {},
   "outputs": [
    {
     "data": {
      "text/plain": [
       "tuple"
      ]
     },
     "execution_count": 14,
     "metadata": {},
     "output_type": "execute_result"
    }
   ],
   "source": [
    "x = (1,1,3)\n",
    "type(x)"
   ]
  },
  {
   "cell_type": "code",
   "execution_count": 15,
   "metadata": {},
   "outputs": [
    {
     "data": {
      "text/plain": [
       "3"
      ]
     },
     "execution_count": 15,
     "metadata": {},
     "output_type": "execute_result"
    }
   ],
   "source": [
    "x[2]"
   ]
  },
  {
   "cell_type": "markdown",
   "metadata": {},
   "source": [
    "# Unitary Transformations\n",
    "\n",
    "In general, given any unitary matrix $U$, which transforms from one set of basis vectors $\\{\\fullket{\\psi_i}\\}$ to another set $\\{\\fullket{\\phi_i}\\}$:\n",
    "$$ \\fullket{\\phi_i} = U_{ij} \\fullket{\\psi_j} $$\n",
    "the corresponding action of $U$ on the space of operators is given by:\n",
    "$$ \\mc{O} \\rightarrow U^{-1} \\mc{O} U $$\n",
    "or in terms of indices:\n",
    "$$ \\mc{O}_{ij} = U^{-1}_{ik} \\mc{O}_{kl} U_{lj} $$"
   ]
  },
  {
   "cell_type": "markdown",
   "metadata": {},
   "source": [
    "# Momentum Representation\n",
    "\n",
    "We transform operators to momentum space as follows:\n",
    "$$ c^\\dagger_{\\vect{k}\\sigma} = \\frac{1}{\\sqrt{N}} \\sum_\\vect{l} e^{i \\vect{k}\\cdot \\vect{l}} c^\\dagger_{\\vect{l}\\sigma}$$\n",
    "with the inverse transformation being:\n",
    "$$ c^\\dagger_{\\vect{l}\\sigma} = \\frac{1}{\\sqrt{N}} \\sum_\\vect{k} e^{- i \\vect{k}\\cdot \\vect{l}} c^\\dagger_{\\vect{k}\\sigma}$$\n",
    "where we have used the orthogonality condition:\n",
    "$$ \\frac{1}{N} \\sum_\\vect{l} e^{-i (\\vect{k} - \\vect{k'})\\cdot \\vect{l}} = \\delta(\\vect{k}-\\vect{k'}) $$\n",
    "This transformation can be written in terms of a matrix:\n",
    "$$ c^\\dagger_{\\vect{k}\\sigma} = A_{\\vect{k},\\vect{l}} \\, c^\\dagger_{\\vect{l}\\sigma} $$\n",
    "where\n",
    "$$ A_{\\vect{k},\\vect{l}} \\equiv e^{i \\vect{k}\\cdot\\vect{l}} $$\n",
    "For a finite system, the momentum $\\vect{k}$ and position $\\vect{l}$ can take on values only in a finite set:\n",
    "$$ \\vect{k} \\in \\{ \\vect{k}_1, \\vect{k}_2, \\ldots, \\vect{k}_n  \\}; \\quad \\vect{l} \\in \\{ \\vect{l}_1, \\vect{l}_2, \\ldots, \\vect{l}_n  \\} $$\n",
    "For a 1D system with $N$ sites, $\\vect{k}_n := k_n = 2\\pi n/N$\n",
    "\n",
    "More precisely, the momentum space operator $ c^\\dagger_{\\vect{k}\\sigma} $ can be written as the sum:\n",
    "\n",
    "$$ c^\\dagger_{\\vect{k}\\sigma} = \\frac{1}{\\sqrt{N}} \\sum_{j=1}^N e^{i \\vect{k}\\cdot \\vect{j}} \\cdot \\mb{1}_1 \\otimes \\ldots \\mb{1}_{j-1} \\otimes c^\\dagger_{j\\sigma} \\otimes \\mb{1}_{j+1} \\ldots \\mb{1}_N $$\n",
    "\n",
    "The unitary matrix which transforms operators and states between position and momentum representations, is given by:\n",
    "\n",
    "$$ U_{\\vect{k},\\vect{l}} = \\frac{1}{\\sqrt{N}} e^{i \\vect{k}\\cdot\\vect{l}} $$\n",
    "\n",
    "The inverse of this matrix $ U^\\dagger \\equiv U^{-1} $ transforms back from the momentum rep to the position rep.\n",
    "\n",
    "$$ U^{-1}_{\\vect{k},\\vect{l}} = U^\\dagger_{\\vect{k},\\vect{l}} = U^\\star_{\\vect{l},\\vect{k}} $$\n",
    "\n",
    "The action of $ U^{-1}_{\\vect{k},\\vect{l}}$ on $c^\\dagger_{\\vect{k}\\sigma}$ is given by:\n",
    "\n",
    "\\begin{align}\n",
    "\\sum_{k=1}^N U^{-1}_{\\vect{k},\\vect{l}} c^\\dagger_{\\vect{k}\\sigma} = \\sum_{k=1}^N  U^\\star_{\\vect{l},\\vect{k}} c^\\dagger_{\\vect{k}\\sigma}\n",
    "        & = \\frac{1}{N} \\sum_{k,j=1}^N e^{-i \\vect{l}\\cdot\\vect{k}} e^{i \\vect{k}\\cdot\\vect{j}} \\cdot \\mb{1}_1 \\otimes \\ldots \\mb{1}_{j-1} \\otimes c^\\dagger_{j\\sigma} \\otimes \\mb{1}_{j+1} \\ldots \\mb{1}_N \\\\\n",
    "        & = \\sum_{j=1}^N \\delta_{\\vect{l},\\vect{j}} \\cdot \\mb{1}_1 \\otimes \\ldots \\mb{1}_{j-1} \\otimes c^\\dagger_{j\\sigma} \\otimes \\mb{1}_{j+1} \\ldots \\mb{1}_N \\\\\n",
    "        & = \\mb{1}_1 \\otimes \\ldots \\mb{1}_{l-1} \\otimes c^\\dagger_{l\\sigma} \\otimes \\mb{1}_{l+1} \\ldots \\mb{1}_N\n",
    "\\end{align}"
   ]
  },
  {
   "cell_type": "markdown",
   "metadata": {},
   "source": [
    "## Position to Momentum Space\n",
    "\n",
    "The unitary matrix which transforms operators and states between position and momentum representations, is given by:\n",
    "\n",
    "$$ U_{\\vect{k},\\vect{l}} = e^{-i \\vect{k}\\cdot\\vect{l}} $$\n",
    "\n",
    "Given any operator $\\mc{O}$ whose matrix elements in position space are $\\mc{O}_{\\vect{l},\\vect{l'}}$, the matrix elements of the corresponding operator in momentum space are given by:\n",
    "\n",
    "$$ \\mc{O}_{\\vect{k},\\vect{k'}} = U^{-1}_{\\vect{k},\\vect{l}} \\mc{O}_{\\vect{l},\\vect{l'}} U_{\\vect{l},\\vect{k}} $$\n",
    "\n",
    "The following code returns a QuTiP object corresponding to a matrix whose elements are $U_{\\vect{k},\\vect{l}}$."
   ]
  },
  {
   "cell_type": "markdown",
   "metadata": {},
   "source": [
    "## Momentum Space Operators"
   ]
  },
  {
   "cell_type": "code",
   "execution_count": 16,
   "metadata": {},
   "outputs": [],
   "source": [
    "def posToMomentumOpN(oper, k = 0, N = 1):\n",
    "    '''Returns the momentum space represenation of the operator given by oper for the k^th momentum\n",
    "    of an N site spin-chain with a Hilbert space of dimensionality dims at each site'''\n",
    "    \n",
    "    momOp = tensor(identityList(N,oper.shape[0]))\n",
    "    invrtn = 1/np.sqrt(N)\n",
    "    \n",
    "#    type(invrtn)\n",
    "\n",
    "    for i in range(N):\n",
    "        momOp += invrtn * np.exp(1j*i*k/(2*np.pi*N)) * posOperatorN(oper,i,N)\n",
    "        \n",
    "    return momOp"
   ]
  },
  {
   "cell_type": "code",
   "execution_count": 17,
   "metadata": {},
   "outputs": [],
   "source": [
    "def momCreationOpN(k = 0, N = 1):\n",
    "    '''Returns the momentum space represenation of the creation operator for the k^th momentum\n",
    "    of an N site spin-chain with a Hilbert space of dimensionality dims at each site'''\n",
    "        \n",
    "    return posToMomentumOpN(create(2),k,N)"
   ]
  },
  {
   "cell_type": "code",
   "execution_count": 18,
   "metadata": {},
   "outputs": [],
   "source": [
    "def momDestructionOpN(k = 0, N = 1):\n",
    "    '''Returns the momentum space represenation of the operator given by oper for the k^th momentum\n",
    "    of an N site spin-chain with a Hilbert space of dimensionality dims at each site'''\n",
    "    \n",
    "    return qutip.dag(momCreationOpN(k,N))"
   ]
  },
  {
   "cell_type": "code",
   "execution_count": 19,
   "metadata": {},
   "outputs": [],
   "source": [
    "def matrixPosToMom(N = 10):\n",
    "    ''' Returns a QuTiP object corresponding to a matrix whose elements are:\n",
    "    \n",
    "    U_{k,l} = e^{-i*k*l}\n",
    "    \n",
    "    '''\n",
    "    \n",
    "    matrix = np.zeros([N,N],dtype=complex)\n",
    "    \n",
    "    for k in range(N):\n",
    "        for l in range(N):\n",
    "            matrix[k][l] = np.exp(1j*k*l)\n",
    "    \n",
    "    return Qobj(matrix)"
   ]
  },
  {
   "cell_type": "code",
   "execution_count": 20,
   "metadata": {},
   "outputs": [
    {
     "data": {
      "text/latex": [
       "Quantum object: dims = [[2, 2], [2, 2]], shape = (4, 4), type = oper, isherm = False\\begin{equation*}\\left(\\begin{array}{*{11}c}(2.405+0.112j) & 0.0 & 0.0 & 0.0\\\\0.0 & (2.405+0.112j) & 0.0 & 0.0\\\\0.0 & 0.0 & (2.405+0.112j) & 0.0\\\\0.0 & 0.0 & 0.0 & (2.405+0.112j)\\\\\\end{array}\\right)\\end{equation*}"
      ],
      "text/plain": [
       "Quantum object: dims = [[2, 2], [2, 2]], shape = (4, 4), type = oper, isherm = False\n",
       "Qobj data =\n",
       "[[ 2.40527684+0.11206503j  0.00000000+0.j          0.00000000+0.j\n",
       "   0.00000000+0.j        ]\n",
       " [ 0.00000000+0.j          2.40527684+0.11206503j  0.00000000+0.j\n",
       "   0.00000000+0.j        ]\n",
       " [ 0.00000000+0.j          0.00000000+0.j          2.40527684+0.11206503j\n",
       "   0.00000000+0.j        ]\n",
       " [ 0.00000000+0.j          0.00000000+0.j          0.00000000+0.j\n",
       "   2.40527684+0.11206503j]]"
      ]
     },
     "execution_count": 20,
     "metadata": {},
     "output_type": "execute_result"
    }
   ],
   "source": [
    "posToMomentumOpN(qeye(2),k=2,N=2)"
   ]
  },
  {
   "cell_type": "code",
   "execution_count": 21,
   "metadata": {},
   "outputs": [
    {
     "data": {
      "text/latex": [
       "Quantum object: dims = [[4], [4]], shape = (4, 4), type = oper, isherm = False\\begin{equation*}\\left(\\begin{array}{*{11}c}1.0 & 1.0 & 1.0 & 1.0\\\\1.0 & (0.540+0.841j) & (-0.416+0.909j) & (-0.990+0.141j)\\\\1.0 & (-0.416+0.909j) & (-0.654-0.757j) & (0.960-0.279j)\\\\1.0 & (-0.990+0.141j) & (0.960-0.279j) & (-0.911+0.412j)\\\\\\end{array}\\right)\\end{equation*}"
      ],
      "text/plain": [
       "Quantum object: dims = [[4], [4]], shape = (4, 4), type = oper, isherm = False\n",
       "Qobj data =\n",
       "[[ 1.00000000+0.j          1.00000000+0.j          1.00000000+0.j\n",
       "   1.00000000+0.j        ]\n",
       " [ 1.00000000+0.j          0.54030231+0.84147098j -0.41614684+0.90929743j\n",
       "  -0.98999250+0.14112001j]\n",
       " [ 1.00000000+0.j         -0.41614684+0.90929743j -0.65364362-0.7568025j\n",
       "   0.96017029-0.2794155j ]\n",
       " [ 1.00000000+0.j         -0.98999250+0.14112001j  0.96017029-0.2794155j\n",
       "  -0.91113026+0.41211849j]]"
      ]
     },
     "execution_count": 21,
     "metadata": {},
     "output_type": "execute_result"
    }
   ],
   "source": [
    "matrixPosToMom(N = 4)"
   ]
  },
  {
   "cell_type": "code",
   "execution_count": 29,
   "metadata": {},
   "outputs": [
    {
     "data": {
      "text/latex": [
       "Quantum object: dims = [[2, 2, 2], [2, 2, 2]], shape = [8, 8], type = oper, isherm = False\\begin{equation*}\\left(\\begin{array}{*{11}c}1.0 & 0.0 & 0.0 & 0.0 & 0.0 & 0.0 & 0.0 & 0.0\\\\(0.564+0.122j) & 1.0 & 0.0 & 0.0 & 0.0 & 0.0 & 0.0 & 0.0\\\\(0.574+0.061j) & 0.0 & 1.0 & 0.0 & 0.0 & 0.0 & 0.0 & 0.0\\\\0.0 & (0.574+0.061j) & (0.564+0.122j) & 1.0 & 0.0 & 0.0 & 0.0 & 0.0\\\\0.577 & 0.0 & 0.0 & 0.0 & 1.0 & 0.0 & 0.0 & 0.0\\\\0.0 & 0.577 & 0.0 & 0.0 & (0.564+0.122j) & 1.0 & 0.0 & 0.0\\\\0.0 & 0.0 & 0.577 & 0.0 & (0.574+0.061j) & 0.0 & 1.0 & 0.0\\\\0.0 & 0.0 & 0.0 & 0.577 & 0.0 & (0.574+0.061j) & (0.564+0.122j) & 1.0\\\\\\end{array}\\right)\\end{equation*}"
      ],
      "text/plain": [
       "Quantum object: dims = [[2, 2, 2], [2, 2, 2]], shape = [8, 8], type = oper, isherm = False\n",
       "Qobj data =\n",
       "[[ 1.00000000+0.j          0.00000000+0.j          0.00000000+0.j\n",
       "   0.00000000+0.j          0.00000000+0.j          0.00000000+0.j\n",
       "   0.00000000+0.j          0.00000000+0.j        ]\n",
       " [ 0.56439946+0.12160007j  1.00000000+0.j          0.00000000+0.j\n",
       "   0.00000000+0.j          0.00000000+0.j          0.00000000+0.j\n",
       "   0.00000000+0.j          0.00000000+0.j        ]\n",
       " [ 0.57410344+0.06114389j  0.00000000+0.j          1.00000000+0.j\n",
       "   0.00000000+0.j          0.00000000+0.j          0.00000000+0.j\n",
       "   0.00000000+0.j          0.00000000+0.j        ]\n",
       " [ 0.00000000+0.j          0.57410344+0.06114389j  0.56439946+0.12160007j\n",
       "   1.00000000+0.j          0.00000000+0.j          0.00000000+0.j\n",
       "   0.00000000+0.j          0.00000000+0.j        ]\n",
       " [ 0.57735027+0.j          0.00000000+0.j          0.00000000+0.j\n",
       "   0.00000000+0.j          1.00000000+0.j          0.00000000+0.j\n",
       "   0.00000000+0.j          0.00000000+0.j        ]\n",
       " [ 0.00000000+0.j          0.57735027+0.j          0.00000000+0.j\n",
       "   0.00000000+0.j          0.56439946+0.12160007j  1.00000000+0.j\n",
       "   0.00000000+0.j          0.00000000+0.j        ]\n",
       " [ 0.00000000+0.j          0.00000000+0.j          0.57735027+0.j\n",
       "   0.00000000+0.j          0.57410344+0.06114389j  0.00000000+0.j\n",
       "   1.00000000+0.j          0.00000000+0.j        ]\n",
       " [ 0.00000000+0.j          0.00000000+0.j          0.00000000+0.j\n",
       "   0.57735027+0.j          0.00000000+0.j          0.57410344+0.06114389j\n",
       "   0.56439946+0.12160007j  1.00000000+0.j        ]]"
      ]
     },
     "execution_count": 29,
     "metadata": {},
     "output_type": "execute_result"
    }
   ],
   "source": [
    "momCreationOpN(k=2,N=3)"
   ]
  },
  {
   "cell_type": "code",
   "execution_count": 22,
   "metadata": {},
   "outputs": [
    {
     "data": {
      "text/latex": [
       "Quantum object: dims = [[2, 2, 2], [2, 2, 2]], shape = (8, 8), type = oper, isherm = False\\begin{equation*}\\left(\\begin{array}{*{11}c}1.0 & (0.564-0.122j) & (0.574-0.061j) & 0.0 & 0.577 & 0.0 & 0.0 & 0.0\\\\0.0 & 1.0 & 0.0 & (0.574-0.061j) & 0.0 & 0.577 & 0.0 & 0.0\\\\0.0 & 0.0 & 1.0 & (0.564-0.122j) & 0.0 & 0.0 & 0.577 & 0.0\\\\0.0 & 0.0 & 0.0 & 1.0 & 0.0 & 0.0 & 0.0 & 0.577\\\\0.0 & 0.0 & 0.0 & 0.0 & 1.0 & (0.564-0.122j) & (0.574-0.061j) & 0.0\\\\0.0 & 0.0 & 0.0 & 0.0 & 0.0 & 1.0 & 0.0 & (0.574-0.061j)\\\\0.0 & 0.0 & 0.0 & 0.0 & 0.0 & 0.0 & 1.0 & (0.564-0.122j)\\\\0.0 & 0.0 & 0.0 & 0.0 & 0.0 & 0.0 & 0.0 & 1.0\\\\\\end{array}\\right)\\end{equation*}"
      ],
      "text/plain": [
       "Quantum object: dims = [[2, 2, 2], [2, 2, 2]], shape = (8, 8), type = oper, isherm = False\n",
       "Qobj data =\n",
       "[[ 1.00000000+0.j          0.56439946-0.12160007j  0.57410344-0.06114389j\n",
       "   0.00000000+0.j          0.57735027+0.j          0.00000000+0.j\n",
       "   0.00000000+0.j          0.00000000+0.j        ]\n",
       " [ 0.00000000+0.j          1.00000000+0.j          0.00000000+0.j\n",
       "   0.57410344-0.06114389j  0.00000000+0.j          0.57735027+0.j\n",
       "   0.00000000+0.j          0.00000000+0.j        ]\n",
       " [ 0.00000000+0.j          0.00000000+0.j          1.00000000+0.j\n",
       "   0.56439946-0.12160007j  0.00000000+0.j          0.00000000+0.j\n",
       "   0.57735027+0.j          0.00000000+0.j        ]\n",
       " [ 0.00000000+0.j          0.00000000+0.j          0.00000000+0.j\n",
       "   1.00000000+0.j          0.00000000+0.j          0.00000000+0.j\n",
       "   0.00000000+0.j          0.57735027+0.j        ]\n",
       " [ 0.00000000+0.j          0.00000000+0.j          0.00000000+0.j\n",
       "   0.00000000+0.j          1.00000000+0.j          0.56439946-0.12160007j\n",
       "   0.57410344-0.06114389j  0.00000000+0.j        ]\n",
       " [ 0.00000000+0.j          0.00000000+0.j          0.00000000+0.j\n",
       "   0.00000000+0.j          0.00000000+0.j          1.00000000+0.j\n",
       "   0.00000000+0.j          0.57410344-0.06114389j]\n",
       " [ 0.00000000+0.j          0.00000000+0.j          0.00000000+0.j\n",
       "   0.00000000+0.j          0.00000000+0.j          0.00000000+0.j\n",
       "   1.00000000+0.j          0.56439946-0.12160007j]\n",
       " [ 0.00000000+0.j          0.00000000+0.j          0.00000000+0.j\n",
       "   0.00000000+0.j          0.00000000+0.j          0.00000000+0.j\n",
       "   0.00000000+0.j          1.00000000+0.j        ]]"
      ]
     },
     "execution_count": 22,
     "metadata": {},
     "output_type": "execute_result"
    }
   ],
   "source": [
    "momDestructionOpN(k=2,N=3)"
   ]
  },
  {
   "cell_type": "markdown",
   "metadata": {},
   "source": [
    "## Correct Interpretation of Indices\n",
    "\n",
    "It is important to keep in mind that the indices $l, l'$ in the previous paragraph refer not to the "
   ]
  },
  {
   "cell_type": "markdown",
   "metadata": {},
   "source": [
    "# Model Hamiltonians"
   ]
  },
  {
   "cell_type": "markdown",
   "metadata": {},
   "source": [
    "## Hubbard Hamiltonian Code\n",
    "\n",
    "Now at each site, one can have two electrons with spin up and down respectively. Thus our creation/annihilation operators also have a spin index $\\sigma$:\n",
    "$$ \\mb{1}_1 \\otimes \\ldots \\mb{1}_{j-1} \\otimes c^\\dagger_{j\\sigma} \\otimes \\mb{1}_{j+1} \\ldots \\mb{1}_N $$\n",
    "In order to implement we need two sets of creation/annihilation operators. One set for up-spin and one set for down-spin."
   ]
  },
  {
   "cell_type": "code",
   "execution_count": 24,
   "metadata": {},
   "outputs": [],
   "source": [
    "def hamiltonianHubbard(N = 10, t = 1, U = 1, mu = 0, periodic = True, shift = False, dims = 2):\n",
    "    '''Returns operator corresponding to Hubbard Hamiltonian on N sites.\n",
    "    Default value of N is 10. t, U and mu are the kinetic energy, potential energy and\n",
    "    chemical potential respectively.\n",
    "    If shift is False then first version of Hamiltonian is returned, else the second\n",
    "    version (where the chemical potential is shifted $\\mu \\rightarrow \\mu - U/2$) is\n",
    "    returned.\n",
    "    dims is the dimension of the Hilbert space for each electron. Default is 2'''\n",
    "    \n",
    "    # two sets of creation/destruction operators, labeled A and B.\n",
    "    \n",
    "    destroyA_list = []\n",
    "    createA_list = []\n",
    "\n",
    "    destroyB_list = []\n",
    "    createB_list = []\n",
    "    \n",
    "    cOp = create(dims)\n",
    "    dOp = destroy(dims)\n",
    "    nOp = cOp * dOp\n",
    "\n",
    "    nA_list = []\n",
    "    nB_list = []\n",
    "    \n",
    "    idOp = identity(dims)\n",
    "\n",
    "    idOp_list = []\n",
    "\n",
    "    [idOp_list.append(idOp) for i in range(N)]\n",
    "    \n",
    "    superid = tensor(idOp_list) # identity operator for whole system\n",
    "    \n",
    "    H = 0\n",
    "\n",
    "    for i in range(N):\n",
    "        # Create list containing creation/destruction/number operators for each site\n",
    "\n",
    "        createA_list.append(posOperatorN(cOp,N=N,i=i))\n",
    "        createB_list.append(posOperatorN(cOp,N=N,i=i))\n",
    "\n",
    "        destroyA_list.append(posOperatorN(dOp,N=N,i=i))\n",
    "        destroyB_list.append(posOperatorN(dOp,N=N,i=i))\n",
    "\n",
    "        nA_list.append(posOperatorN(nOp,N=N,i=i))\n",
    "        nB_list.append(posOperatorN(nOp,N=N,i=i))\n",
    "        \n",
    "    if periodic == True:\n",
    "        for i in range(N):\n",
    "            H += - t * (createA_list[i%N] * destroyA_list[(i+1)%N] + createB_list[i%N] * destroyB_list[(i+1)%N])\n",
    "    else:\n",
    "        for i in range(N-1):\n",
    "            H += - t * (createA_list[i] * destroyA_list[i+1] + createB_list[i] * destroyB_list[i+1])\n",
    "\n",
    "    for i in range(N):\n",
    "        H += - mu * (nA_list[i] + nB_list[i])\n",
    "        if shift == True:\n",
    "            H += U * (nA_list[i] - 0.5 * superid) * (nB_list[i] - 0.5 * superid)\n",
    "        else:\n",
    "            H += U * nA_list[i] * nB_list[i]\n",
    "    \n",
    "    return H"
   ]
  },
  {
   "cell_type": "code",
   "execution_count": 25,
   "metadata": {},
   "outputs": [
    {
     "data": {
      "text/latex": [
       "Quantum object: dims = [[2, 2, 2, 2, 2, 2], [2, 2, 2, 2, 2, 2]], shape = (64, 64), type = oper, isherm = False\\begin{equation*}\\left(\\begin{array}{*{11}c}0.0 & 0.0 & 0.0 & 0.0 & 0.0 & \\cdots & 0.0 & 0.0 & 0.0 & 0.0 & 0.0\\\\0.0 & 0.800 & 0.0 & 0.0 & 0.0 & \\cdots & 0.0 & 0.0 & 0.0 & 0.0 & 0.0\\\\0.0 & 2.0 & 0.800 & 0.0 & 0.0 & \\cdots & 0.0 & 0.0 & 0.0 & 0.0 & 0.0\\\\0.0 & 0.0 & 0.0 & 1.600 & 0.0 & \\cdots & 0.0 & 0.0 & 0.0 & 0.0 & 0.0\\\\0.0 & 0.0 & 2.0 & 0.0 & 0.800 & \\cdots & 0.0 & 0.0 & 0.0 & 0.0 & 0.0\\\\\\vdots & \\vdots & \\vdots & \\vdots & \\vdots & \\ddots & \\vdots & \\vdots & \\vdots & \\vdots & \\vdots\\\\0.0 & 0.0 & 0.0 & 0.0 & 0.0 & \\cdots & 4.0 & 0.0 & 0.0 & 0.0 & 0.0\\\\0.0 & 0.0 & 0.0 & 0.0 & 0.0 & \\cdots & 0.0 & 3.200 & 0.0 & 0.0 & 0.0\\\\0.0 & 0.0 & 0.0 & 0.0 & 0.0 & \\cdots & 2.0 & 0.0 & 4.0 & 0.0 & 0.0\\\\0.0 & 0.0 & 0.0 & 0.0 & 0.0 & \\cdots & 0.0 & 0.0 & 2.0 & 4.0 & 0.0\\\\0.0 & 0.0 & 0.0 & 0.0 & 0.0 & \\cdots & 0.0 & 0.0 & 0.0 & 0.0 & 4.800\\\\\\end{array}\\right)\\end{equation*}"
      ],
      "text/plain": [
       "Quantum object: dims = [[2, 2, 2, 2, 2, 2], [2, 2, 2, 2, 2, 2]], shape = (64, 64), type = oper, isherm = False\n",
       "Qobj data =\n",
       "[[ 0.   0.   0.  ...,  0.   0.   0. ]\n",
       " [ 0.   0.8  0.  ...,  0.   0.   0. ]\n",
       " [ 0.   2.   0.8 ...,  0.   0.   0. ]\n",
       " ..., \n",
       " [ 0.   0.   0.  ...,  4.   0.   0. ]\n",
       " [ 0.   0.   0.  ...,  2.   4.   0. ]\n",
       " [ 0.   0.   0.  ...,  0.   0.   4.8]]"
      ]
     },
     "execution_count": 25,
     "metadata": {},
     "output_type": "execute_result"
    }
   ],
   "source": [
    "h1 = hamiltonianHubbard(mu=0.1,N=6,t=-1)\n",
    "h1"
   ]
  },
  {
   "cell_type": "markdown",
   "metadata": {},
   "source": [
    "## Ising Hamiltonian Code"
   ]
  },
  {
   "cell_type": "code",
   "execution_count": 26,
   "metadata": {},
   "outputs": [],
   "source": [
    "def hamiltonianIsing(N = 10, J = 1, B = 0.0, periodic = True, spin=0.5):\n",
    "    '''Returns operator corresponding to Ising Hamiltonian for give spin on N sites.\n",
    "    Default value of N is 10. j is the coupling strength. Default is -1 for\n",
    "    ferromagnetic interaction.\n",
    "    Default value of spin is 0.5\n",
    "    '''\n",
    "    \n",
    "    op_list = []\n",
    "    op_list2 = []\n",
    "    \n",
    "    jz = 2*jmat(spin,'z')\n",
    "    jx = 2*jmat(spin,'x')\n",
    "    \n",
    "    dimj = 2*spin + 1\n",
    "    \n",
    "    H = 0\n",
    "    \n",
    "    idlist = identityList(N, dimj)\n",
    "        \n",
    "    for i in range(N):\n",
    "        # Create list containing spin-z operators for each site:\n",
    "        \n",
    "        op_list.append(posOperatorN(jz,i=i,N=N))\n",
    "        op_list2.append(posOperatorN(jx,i=i,N=N))\n",
    "    \n",
    "    if periodic == True:\n",
    "        for i in range(N):\n",
    "            H += -J*op_list[i%N]*op_list[(i+1)%N] + B*op_list2[i%N]\n",
    "    else:\n",
    "        for i in range(N-1):\n",
    "            H += -J*op_list[i]*op_list[i+1] + B*op_list2[i]\n",
    "        H += B*op_list2[N-1]\n",
    "        \n",
    "    return H"
   ]
  },
  {
   "cell_type": "code",
   "execution_count": 27,
   "metadata": {},
   "outputs": [],
   "source": [
    "N = 8"
   ]
  },
  {
   "cell_type": "code",
   "execution_count": 28,
   "metadata": {},
   "outputs": [
    {
     "data": {
      "text/latex": [
       "Quantum object: dims = [[2, 2, 2, 2, 2, 2, 2, 2], [2, 2, 2, 2, 2, 2, 2, 2]], shape = (256, 256), type = oper, isherm = True\\begin{equation*}\\left(\\begin{array}{*{11}c}-8.0 & 1.0 & 1.0 & 0.0 & 1.0 & \\cdots & 0.0 & 0.0 & 0.0 & 0.0 & 0.0\\\\1.0 & -4.0 & 0.0 & 1.0 & 0.0 & \\cdots & 0.0 & 0.0 & 0.0 & 0.0 & 0.0\\\\1.0 & 0.0 & -4.0 & 1.0 & 0.0 & \\cdots & 0.0 & 0.0 & 0.0 & 0.0 & 0.0\\\\0.0 & 1.0 & 1.0 & -4.0 & 0.0 & \\cdots & 0.0 & 0.0 & 0.0 & 0.0 & 0.0\\\\1.0 & 0.0 & 0.0 & 0.0 & -4.0 & \\cdots & 0.0 & 0.0 & 0.0 & 0.0 & 0.0\\\\\\vdots & \\vdots & \\vdots & \\vdots & \\vdots & \\ddots & \\vdots & \\vdots & \\vdots & \\vdots & \\vdots\\\\0.0 & 0.0 & 0.0 & 0.0 & 0.0 & \\cdots & -4.0 & 0.0 & 0.0 & 0.0 & 1.0\\\\0.0 & 0.0 & 0.0 & 0.0 & 0.0 & \\cdots & 0.0 & -4.0 & 1.0 & 1.0 & 0.0\\\\0.0 & 0.0 & 0.0 & 0.0 & 0.0 & \\cdots & 0.0 & 1.0 & -4.0 & 0.0 & 1.0\\\\0.0 & 0.0 & 0.0 & 0.0 & 0.0 & \\cdots & 0.0 & 1.0 & 0.0 & -4.0 & 1.0\\\\0.0 & 0.0 & 0.0 & 0.0 & 0.0 & \\cdots & 1.0 & 0.0 & 1.0 & 1.0 & -8.0\\\\\\end{array}\\right)\\end{equation*}"
      ],
      "text/plain": [
       "Quantum object: dims = [[2, 2, 2, 2, 2, 2, 2, 2], [2, 2, 2, 2, 2, 2, 2, 2]], shape = (256, 256), type = oper, isherm = True\n",
       "Qobj data =\n",
       "[[-8.  1.  1. ...,  0.  0.  0.]\n",
       " [ 1. -4.  0. ...,  0.  0.  0.]\n",
       " [ 1.  0. -4. ...,  0.  0.  0.]\n",
       " ..., \n",
       " [ 0.  0.  0. ..., -4.  0.  1.]\n",
       " [ 0.  0.  0. ...,  0. -4.  1.]\n",
       " [ 0.  0.  0. ...,  1.  1. -8.]]"
      ]
     },
     "execution_count": 28,
     "metadata": {},
     "output_type": "execute_result"
    }
   ],
   "source": [
    "testham = hamiltonianIsing(N,B=1.0,periodic = True)\n",
    "testham"
   ]
  },
  {
   "cell_type": "code",
   "execution_count": 29,
   "metadata": {},
   "outputs": [
    {
     "data": {
      "text/plain": [
       "(<matplotlib.figure.Figure at 0x116cb5208>,\n",
       " <matplotlib.axes._subplots.AxesSubplot at 0x116cb5be0>)"
      ]
     },
     "execution_count": 29,
     "metadata": {},
     "output_type": "execute_result"
    },
    {
     "data": {
      "image/png": "[encoded data removed]",
      "text/plain": [
       "<matplotlib.figure.Figure at 0x116cb5208>"
      ]
     },
     "metadata": {},
     "output_type": "display_data"
    }
   ],
   "source": [
    "plot_energy_levels([testham])"
   ]
  },
  {
   "cell_type": "markdown",
   "metadata": {},
   "source": [
    "## Ising Model in Transverse Field Hamiltonian Code"
   ]
  },
  {
   "cell_type": "code",
   "execution_count": 30,
   "metadata": {},
   "outputs": [],
   "source": [
    "def hamiltonianIsingTransverse(N = 10, J = 1.0, B = 1.0, periodic = True, spin=0.5):\n",
    "    '''Returns operator corresponding to Ising Hamiltonian for give spin on N sites.\n",
    "    Default value of N is 10. jcoef is the coupling strength. Default is -1 for\n",
    "    ferromagnetic interaction.\n",
    "    Default value of spin is 0.5\n",
    "    '''\n",
    "    \n",
    "    op_list = []\n",
    "    op_list2 = []\n",
    "    \n",
    "    jz = 2*jmat(spin,'z')\n",
    "    jx = 2*jmat(spin,'x')\n",
    "    \n",
    "    dimj = 2*spin + 1\n",
    "    \n",
    "    H = 0\n",
    "    \n",
    "    idlist = identityList(N, dimj)\n",
    "    \n",
    "    for i in range(N):\n",
    "        # Create list containing spin-z operators for each site:\n",
    "        \n",
    "        op_list.append(posOperatorN(jz,i=i,N=N))\n",
    "        op_list2.append(posOperatorN(jx,i=i,N=N))\n",
    "    \n",
    "    if periodic == True:\n",
    "        for i in range(N):\n",
    "            H += -J*op_list[i%N]*op_list[(i+1)%N] - B*op_list2[i%N]\n",
    "    else:\n",
    "        for i in range(N-1):\n",
    "            H += -J*op_list[i]*op_list[i+1] - B*op_list2[i]\n",
    "        H += B*op_list2[N-1]\n",
    "            \n",
    "    return H"
   ]
  },
  {
   "cell_type": "code",
   "execution_count": 31,
   "metadata": {},
   "outputs": [],
   "source": [
    "testhamA = hamiltonianIsingTransverse(8,J=1.0,B=0.5,periodic = True)\n",
    "testhamB = hamiltonianIsingTransverse(8,J=1.0,B=1.0,periodic=True)"
   ]
  },
  {
   "cell_type": "code",
   "execution_count": 32,
   "metadata": {},
   "outputs": [
    {
     "data": {
      "text/plain": [
       "(<matplotlib.figure.Figure at 0x119494f98>,\n",
       " <matplotlib.axes._subplots.AxesSubplot at 0x119494390>)"
      ]
     },
     "execution_count": 32,
     "metadata": {},
     "output_type": "execute_result"
    },
    {
     "data": {
      "image/png": "[encoded data removed]",
      "text/plain": [
       "<matplotlib.figure.Figure at 0x119494f98>"
      ]
     },
     "metadata": {},
     "output_type": "display_data"
    }
   ],
   "source": [
    "plot_energy_levels([testhamB,testhamA],show_ylabels=True,labels=[\"J=1.0, B=0.5\",\"J=1.0, B=1.0\"])"
   ]
  },
  {
   "cell_type": "code",
   "execution_count": 33,
   "metadata": {},
   "outputs": [
    {
     "data": {
      "text/plain": [
       "(<matplotlib.figure.Figure at 0x119cf48d0>,\n",
       " <matplotlib.axes._subplots.AxesSubplot at 0x119ceab00>)"
      ]
     },
     "execution_count": 33,
     "metadata": {},
     "output_type": "execute_result"
    },
    {
     "data": {
      "image/png": "[encoded data removed]",
      "text/plain": [
       "<matplotlib.figure.Figure at 0x119cf48d0>"
      ]
     },
     "metadata": {},
     "output_type": "display_data"
    }
   ],
   "source": [
    "plot_energy_levels([testhamA],100,show_ylabels=True)"
   ]
  },
  {
   "cell_type": "code",
   "execution_count": 34,
   "metadata": {},
   "outputs": [
    {
     "data": {
      "text/plain": [
       "(<matplotlib.figure.Figure at 0x119f79400>,\n",
       " <matplotlib.axes._subplots.AxesSubplot at 0x119f6afd0>)"
      ]
     },
     "execution_count": 34,
     "metadata": {},
     "output_type": "execute_result"
    },
    {
     "data": {
      "image/png": "[encoded data removed]",
      "text/plain": [
       "<matplotlib.figure.Figure at 0x119f79400>"
      ]
     },
     "metadata": {},
     "output_type": "display_data"
    }
   ],
   "source": [
    "plot_energy_levels([testhamB],100,show_ylabels=True)"
   ]
  },
  {
   "cell_type": "code",
   "execution_count": 98,
   "metadata": {
    "collapsed": true
   },
   "outputs": [],
   "source": [
    "energiesA = testhamA.eigenenergies()"
   ]
  },
  {
   "cell_type": "code",
   "execution_count": 110,
   "metadata": {
    "collapsed": true
   },
   "outputs": [],
   "source": [
    "ax.set_yticklabels?"
   ]
  },
  {
   "cell_type": "code",
   "execution_count": 114,
   "metadata": {
    "collapsed": true
   },
   "outputs": [],
   "source": [
    "ax.set_yticklabels?"
   ]
  },
  {
   "cell_type": "code",
   "execution_count": 129,
   "metadata": {},
   "outputs": [
    {
     "data": {
      "image/png": "[encoded data removed]",
      "text/plain": [
       "<matplotlib.figure.Figure at 0x108978f98>"
      ]
     },
     "metadata": {},
     "output_type": "display_data"
    }
   ],
   "source": [
    "fig, ax = plt.subplots(1,1)\n",
    "# ax.plot([0.5,1],[0.4,0.4])\n",
    "fig.set_figwidth(2)\n",
    "fig.set_figheight(4)\n",
    "yticks = np.unique(np.around(energiesA, 1))\n",
    "ax.set_yticks(yticks)\n",
    "ax.set_frame_on(False)\n",
    "ax.axes.get_xaxis().set_visible(False)\n",
    "for i in energiesA:\n",
    "    ax.plot([0,0.5],[i,i],'b')"
   ]
  },
  {
   "cell_type": "code",
   "execution_count": 123,
   "metadata": {
    "collapsed": true
   },
   "outputs": [],
   "source": [
    "matplotlib.axis.YAxis.set_visible?"
   ]
  },
  {
   "cell_type": "code",
   "execution_count": 124,
   "metadata": {
    "collapsed": true
   },
   "outputs": [],
   "source": [
    "np.around?"
   ]
  },
  {
   "cell_type": "code",
   "execution_count": 102,
   "metadata": {
    "collapsed": true
   },
   "outputs": [],
   "source": [
    "ax.plot?"
   ]
  },
  {
   "cell_type": "code",
   "execution_count": 97,
   "metadata": {},
   "outputs": [
    {
     "data": {
      "text/plain": [
       "[<matplotlib.lines.Line2D at 0x1158d5828>]"
      ]
     },
     "execution_count": 97,
     "metadata": {},
     "output_type": "execute_result"
    },
    {
     "data": {
      "image/png": "[encoded data removed]",
      "text/plain": [
       "<matplotlib.figure.Figure at 0x1158e3c18>"
      ]
     },
     "metadata": {},
     "output_type": "display_data"
    }
   ],
   "source": [
    "fig, ax = plt.subplots(1,1)\n",
    "ax.plot([0.5,1],[0.4,0.4])"
   ]
  },
  {
   "cell_type": "markdown",
   "metadata": {},
   "source": [
    "## Heisenberg Spin-Chain\n",
    "\n",
    "operator corresponding to the Heisenberg 1D spin-chain on N sites.\n",
    "$$ H = - J \\sum_{i=1}^N \\vect{S}_n \\cdot \\vect{S}_{n+1} $$\n",
    "where $ \\vect{S}_n = (S_x, S_y, S_z) $ is the spin-operator acting on the n${}^{th}$ site.\n",
    "\n",
    "for the n${}^{th}$ term in the sum, we have:\n",
    "\n",
    "$$ H_n = -J ( S_n^x S_{n+1}^x + S_n^y S_{n+1}^y + S_n^z S_{n+1}^z ) $$\n",
    "\n",
    "$S^x, S^y$ can be expressed in terms of the spin-flip operators $S^+, S^-$, as in:\n",
    "\n",
    "$$ S^x = \\frac{1}{2}(S^+ + S^-); \\qquad S^y = \\frac{1}{2i}(S^+ - S^-) $$\n",
    "\n",
    "Consequently the terms involving $S^x, S^y$ in $H_n$ take the form:\n",
    "\n",
    "\\begin{align}\n",
    "    S_n^x S_{n+1}^x + S_n^y S_{n+1}^y & = \\frac{1}{4}(S_n^+ + S_n^-) (S_{n+1}^+ + S_{n+1}^-) - \\frac{1}{4}(S_n^+ - S_n^-) (S_{n+1}^+ - S_{n+1}^-) \\\\\n",
    "            & = \\frac{1}{2} (S_n^+ S_{n+1}^- + S_n^- S_{n+1}^+)\n",
    "\\end{align}\n",
    "\n",
    "So that, the total Hamiltonian becomes:\n",
    "\n",
    "$$ H = -J \\sum_{i=1}^N \\left[ \\frac{1}{2} (S_n^+ S_{n+1}^- + S_n^- S_{n+1}^+) + S_n^z S_{n+1}^z \\right] $$"
   ]
  },
  {
   "cell_type": "code",
   "execution_count": null,
   "metadata": {},
   "outputs": [],
   "source": [
    "def hamiltonianHeisenberg(N = 5, J = 1, periodic = True):\n",
    "    '''Returns operator corresponding to the Heisenberg 1D spin-chain on N sites.\n",
    "    $$ H = - J \\sum_{i=1}^N S_n \\cdot S_{n+1} $$\n",
    "    where $ S_n (S_x, S_y, S_z) $ is the spin-operator acting on the n^{th} site.\n",
    "    \n",
    "    H can be written in terms of spin-flip operators $S^+, S^-$ as:\n",
    "    \n",
    "    $$ H = -J \\sum_{i=1}^N \\left[ \\frac{1}{2} (S_n^+ S_{n+1}^- + S_n^- S_{n+1}^+) + S_n^z S_{n+1}^z \\right] $$\n",
    "    \n",
    "    '''\n",
    "    \n",
    "    spinp_list = []\n",
    "    spinm_list = []\n",
    "    spinz_list = []\n",
    "    \n",
    "    opSpinP = sigmap()\n",
    "    opSpinM = sigmam()\n",
    "    opSpinZ = sigmaz()\n",
    "    \n",
    "    idOp = identity(2)\n",
    "\n",
    "    idOp_list = []\n",
    "    \n",
    "    [idOp_list.append(idOp) for i in range(N)]\n",
    "    \n",
    "    superid = tensor(idOp_list) # identity operator for whole system\n",
    "    \n",
    "    H = 0\n",
    "\n",
    "    for i in range(N):\n",
    "        # Create list containing creation/destruction/number operators for each site\n",
    "\n",
    "        spinp_list.append(posOperatorN(opSpinP,N=N,i=i))\n",
    "        spinm_list.append(posOperatorN(opSpinM,N=N,i=i))\n",
    "        spinz_list.append(posOperatorN(opSpinZ,N=N,i=i))\n",
    "    \n",
    "    if periodic == True:\n",
    "        for i in range(N):\n",
    "            H += - J * ( 0.5*(spinp_list[i%N] * spinp_list[(i+1)%N] + spinm_list[i%N] * spinm_list[(i+1)%N]) \\\n",
    "                    + spinz_list[i%N] * spinz_list[(i+1)%N] )\n",
    "    else:\n",
    "        for i in range(N-1):\n",
    "            H += - J * ( 0.5*(spinp_list[i] * spinp_list[i+1] + spinm_list[i] * spinm_list[i+1]) \\\n",
    "                    + spinz_list[i] * spinz_list[i+1] )\n",
    "    \n",
    "    return H\n",
    "    \n",
    "    "
   ]
  },
  {
   "cell_type": "markdown",
   "metadata": {},
   "source": [
    "# `Hamiltonian` Class Defintion"
   ]
  },
  {
   "cell_type": "code",
   "execution_count": null,
   "metadata": {},
   "outputs": [],
   "source": [
    "class Hamiltonian(Qobj):\n",
    "    \n",
    "    _hamTypes = ['NumberOp', 'Ising', 'Heisenberg','Hubbard']\n",
    "    _hamType = ''\n",
    "    _maxSites = 100\n",
    "    _numSites = 1\n",
    "    _dims = 2\n",
    "    _label = None\n",
    "    _data = None\n",
    "    \n",
    "    _hamiltonian = Qobj()\n",
    "    _eigenenergies = []\n",
    "    _eigenstates = []\n",
    "    _isHermitian = True\n",
    "    \n",
    "    def __init__(self, label=None, dims=2, isHermitian=True,\\\n",
    "                 numSites=1, hamType=None,data=None):\n",
    "#        try:\n",
    "#            from qutip import *\n",
    "#        except:\n",
    "#            raise NameError('QuTiP is not installed')\n",
    "        \n",
    "        if numSites<1 or not isinstance(numSites,int):\n",
    "            raise ValueError('numSites must be an integer greater than or equal to 1')\n",
    "        if numSites>self._maxSites:\n",
    "            raise ValueError('numSites cannot be greater than ' + str(self._maxSites))\n",
    "        else:\n",
    "            self._numSites = numSites\n",
    "        \n",
    "        if label!=None and isinstance(label, str):\n",
    "            self._label = label\n",
    "            \n",
    "        if data!=None:\n",
    "            self._data = data\n",
    "\n",
    "        self._isHermitian = isHermitian\n",
    "        \n",
    "        if hamType != None:\n",
    "            if hamType not in self._hamTypes:\n",
    "                from string import join\n",
    "                raise ValueError('hamType must be one of ' + join(self._hamTypes,', '))\n",
    "            else:\n",
    "                self._hamType = hamType\n",
    "                self.createHamiltonian()\n",
    "        else:\n",
    "            self._hamiltonian = Qobj()\n",
    "        \n",
    "        if dims < 2 or not isinstance(dims, int):\n",
    "            raise ValueError('dim must be an integer greater than or equal to 2')\n",
    "        else:\n",
    "            self._dims = dims\n",
    "            \n",
    "        Qobj.__init__(self._hamiltonian)\n",
    "        \n",
    "        return\n",
    "\n",
    "    def createHamiltonian(self):\n",
    "        \n",
    "        if self._hamType == 'Ising':\n",
    "            \n",
    "            self._hamiltonian = hamiltonianIsing(self._numSites,self._data['jcoefs'],self._data['spin'])\n",
    "        \n",
    "        elif self._hamType == 'Hubbard':\n",
    "            \n",
    "            self._hamiltonian = hamiltonianHubbard(self._numSites, self._data['t'],\\\n",
    "                                self._data['U'], self._data['mu'], \\\n",
    "                                self._data['shift'], self._dims)\n",
    "            \n",
    "        elif self._hamType == 'NumberOp':\n",
    "            \n",
    "            numOp = create(self._dims)*destroy(self._dims)\n",
    "            \n",
    "            self._hamiltonian = posOperHamiltonian(numOp, self._numSites, \\\n",
    "                                    self._data['coefs'], self._dims)\n",
    "            \n",
    "        elif self._hamType == 'Heisenberg':\n",
    "            \n",
    "            self._hamiltonian = hamiltonianHeisenberg()\n",
    "            \n",
    "        return\n",
    "            \n",
    "    @property\n",
    "    def hermitian(self):\n",
    "        return self._isHermitian\n",
    "    \n",
    "    @hermitian.setter\n",
    "    def hermitian(self, value):\n",
    "        if isinstance(value, bool):\n",
    "            self._isHermitian = value\n",
    "        else:\n",
    "            raise ValueError('hermitian must be a boolean data type')"
   ]
  },
  {
   "cell_type": "markdown",
   "metadata": {},
   "source": [
    "# Vacuum State, Basis States"
   ]
  },
  {
   "cell_type": "code",
   "execution_count": null,
   "metadata": {
    "collapsed": true
   },
   "outputs": [],
   "source": [
    "def stateVacuum(N = 10):\n",
    "    ''' Returns a QuTiP object representing the vacuum state for a spin-chain with N sites '''\n",
    "    \n",
    "    state = []\n",
    "    \n",
    "    for i in range(N):\n",
    "        state.append(basis(2,0))\n",
    "    \n",
    "    return tensor(state)"
   ]
  },
  {
   "cell_type": "code",
   "execution_count": null,
   "metadata": {},
   "outputs": [],
   "source": [
    "stateVacuum(N=3)"
   ]
  },
  {
   "cell_type": "code",
   "execution_count": null,
   "metadata": {
    "collapsed": true
   },
   "outputs": [],
   "source": [
    "def stateUpK(k = 0, N = 10):\n",
    "    ''' Returns a QuTiP object representating a state with the k^th spin pointing up and the rest pointing\n",
    "    down for a N site spin-chain. '''\n",
    "    \n",
    "    state = []\n",
    "    \n",
    "    for i in range(N):\n",
    "        state.append(basis(2,0))\n",
    "        \n",
    "    state[k] = basis(2,1)\n",
    "    \n",
    "    return tensor(state)"
   ]
  },
  {
   "cell_type": "code",
   "execution_count": null,
   "metadata": {},
   "outputs": [],
   "source": [
    "stateUpK(2,3)"
   ]
  },
  {
   "cell_type": "code",
   "execution_count": null,
   "metadata": {
    "collapsed": true
   },
   "outputs": [],
   "source": [
    "def stateDownK(k = 0, N = 10):\n",
    "    ''' Returns a QuTiP object representating a state with the k^th spin pointing down and the rest pointing\n",
    "    up for a N site spin-chain. '''\n",
    "    \n",
    "    state = []\n",
    "    \n",
    "    for i in range(N):\n",
    "        state.append(basis(2,1))\n",
    "        \n",
    "    state[k] = basis(2,0)\n",
    "    \n",
    "    return tensor(state)"
   ]
  },
  {
   "cell_type": "code",
   "execution_count": null,
   "metadata": {},
   "outputs": [],
   "source": [
    "stateDownK(2,3)"
   ]
  },
  {
   "cell_type": "code",
   "execution_count": null,
   "metadata": {
    "collapsed": true
   },
   "outputs": [],
   "source": [
    "def stateListDown(N = 10):\n",
    "    ''' Returns a list of QuTiP objects, whose elements are the mutually orthogonal states, with mostly\n",
    "    down spins, of a spin-chain with N sites. '''\n",
    "    \n",
    "    stateList = []\n",
    "    \n",
    "    for i in range(N):\n",
    "        stateList.append(stateDownK(i,N))\n",
    "        \n",
    "    return stateList\n",
    "\n",
    "def stateListUp(N = 10):\n",
    "    ''' Returns a list of QuTiP objects, whose elements are the mutually orthogonal states, with mostly\n",
    "    up spins, of a spin-chain with N sites. '''\n",
    "    \n",
    "    stateList = []\n",
    "    \n",
    "    for i in range(N):\n",
    "        stateList.append(stateUpK(i,N))\n",
    "        \n",
    "    return stateList"
   ]
  },
  {
   "cell_type": "code",
   "execution_count": null,
   "metadata": {},
   "outputs": [],
   "source": [
    "stateListDown(N=3)"
   ]
  },
  {
   "cell_type": "markdown",
   "metadata": {},
   "source": [
    "# Jordan-Wigner Transformation\n",
    "\n",
    "Given a n-qubit system, with Pauli operator $ X_i, Y_i, Z_i $ acting on each qubit, we can define a set of ***fermionic*** operators $ \\{a_j\\} $\n",
    "\n",
    "$$ a_j = -\\left(\\otimes_{i=1}^{j-1} Z_i \\right) \\otimes \\sigma_j $$\n",
    "\n",
    "The function `jordanWignerDestroyI(i,N)` returns the fermionic destruction operator $a_i$ for the $i^\\text{th}$ site of a N-site qubit chain. \n"
   ]
  },
  {
   "cell_type": "code",
   "execution_count": null,
   "metadata": {
    "collapsed": true
   },
   "outputs": [],
   "source": [
    "def jordanWignerDestroyI(i = 0, N = 1):\n",
    "    ''' Returns the fermionic annihilation operator for the i^th site of a N site spin-chain:\n",
    "    a_i = Z_1 x Z_2 ... x Z_{i-1} x sigma_i\n",
    "    where Z_i is the Pauli sigma_z matrix acting on the i^th site and sigma_i is the density\n",
    "    matrix acting on the i^th qubit, given by:\n",
    "    sigma_i = id_1 x id_2 ... x id_{i-1} x |0><1| x id_{i+1} ... x id_n\n",
    "    where id_i is the identity operator\n",
    "    \n",
    "    Reference: Nielsen, Fermionic CCR and Jordan Wigner Transformation\n",
    "    '''\n",
    "    \n",
    "    # create zop, assign to it identity operator for N site system\n",
    "    zop = tensor([qeye(2)]*N)\n",
    "    \n",
    "    # for k in (0..i-1), create Z_k operator for N-site chain\n",
    "    # zop is product of Z_1 * Z_2 ... * Z_{i-1}\n",
    "    \n",
    "    for k in range(i):\n",
    "        zop *= posOperatorN(sigmaz(),i = k, N = N)\n",
    "    \n",
    "    # create single qubit density matrix |0><1|\n",
    "    \n",
    "    sigmai = ket([0])*bra([1])\n",
    "    \n",
    "    # create list of N single-site identity operators\n",
    "    \n",
    "    op_list = identityList(N = N)\n",
    "\n",
    "    # assign single qubit density matrix |0><1| to i^th item of above list\n",
    "    \n",
    "    op_list[i] = sigmai\n",
    "    \n",
    "    # take the tensor product of resulting list to obtain operator for density matrix |0><1|\n",
    "    # acting on i^th qubit of N-site chain.\n",
    "    \n",
    "    sigmaop = tensor(op_list)\n",
    "    \n",
    "    # return zop*sigmaop = Z_1 x Z_2 .. x Z_{i-1} x sigma_i, which is fermionic annihilation\n",
    "    # operator for i^th site of N-site spin-chain.\n",
    "    \n",
    "    return zop * sigmaop\n",
    "    \n",
    "    "
   ]
  },
  {
   "cell_type": "code",
   "execution_count": null,
   "metadata": {
    "collapsed": true
   },
   "outputs": [],
   "source": [
    "def offDiagBelow(N,a=1):\n",
    "    \"\"\"\n",
    "    Returns a NxN array with the elements below the diagonal set to a\n",
    "    \"\"\"\n",
    "    return a*(np.tri(N,N,-1) - np.tri(N,N,-2))\n",
    "\n",
    "def offDiagAbove(N,a=1):\n",
    "    \"\"\"\n",
    "    Returns a NxN array with the elements above the diagonal set to a\n",
    "    \"\"\"\n",
    "    return a*(np.tri(N,N,1) - np.tri(N,N))"
   ]
  },
  {
   "cell_type": "markdown",
   "metadata": {},
   "source": [
    "# Schmidt Decomposition (Singular Value Decomposition)\n",
    "\n",
    "We need to be able to perform the following tests:\n",
    "\n",
    "1. Determine whether a given state is entangled or not\n",
    "2. Determine whether a given density matrix represents a pure or a mixed state\n",
    "\n",
    "In order to test of entanglement, we can use the Schmidt decomposition or the Singular Value Decomposition (SVD). Numpy implements the SVD in the module numpy.linalg.svd, which given a matrix $A$ as argument, returns the SVD of $A$, in the form of two unitary matrices $U$, $V$ and a diagonal matrix $S$:\n",
    "\n",
    "$$ A = U \\cdot S \\cdot V $$\n",
    "\n",
    "Since $S$ is diagonal ($S_{ij} \\equiv s_i \\delta_{ij}$), the elements of $A$ can be written as:\n",
    "\n",
    "\\begin{align}\n",
    "A_{ij} & = U_{ik} \\cdot S_{km} \\cdot V_{mj} \\\\\n",
    "       & = U_{ik} \\cdot s_k \\delta_{km} \\cdot V_{mj} \\\\\n",
    "       & = s_k U_{ik} V_{kj}\n",
    "\\end{align}\n",
    "\n",
    "$$  $$"
   ]
  },
  {
   "cell_type": "markdown",
   "metadata": {},
   "source": [
    "Construct entangled state:\n",
    "$$ \\fullket{\\psi} = \\frac{1}{\\sqrt{2}} ( \\fullket{00} + \\fullket{11} ) $$"
   ]
  },
  {
   "cell_type": "markdown",
   "metadata": {},
   "source": [
    "The state $\\fullket{\\psi}$ can be written in the form:\n",
    "$$ \\psi = \\alpha_{ij} u_i \\otimes v_j $$\n",
    "where $u_i, v_i \\in \\{\\fullket{0},\\fullket{1}\\}$ are basis vectors for the two Hilbert spaces $H_1$ and $H_2$. For the given state, the matrix $\\alpha_{ij}$ has the form:\n",
    "\n",
    "$$ \n",
    "\\alpha = \\begin{pmatrix} 0.707 & 0 \\\\\n",
    "                         0     & 0.707 \\end{pmatrix}\n",
    "$$\n",
    "\n",
    "If $\\fullket{\\psi}$ is **not** entangled then in the SVD of the matrix $\\alpha_{ij}$:\n",
    "$$ \\alpha = U \\, S \\, V $$\n",
    "the diagonal matrix $S$ will have only one non-zero element."
   ]
  },
  {
   "cell_type": "code",
   "execution_count": 3,
   "metadata": {},
   "outputs": [
    {
     "ename": "NameError",
     "evalue": "name 'np' is not defined",
     "output_type": "error",
     "traceback": [
      "\u001b[0;31m---------------------------------------------------------------------------\u001b[0m",
      "\u001b[0;31mNameError\u001b[0m                                 Traceback (most recent call last)",
      "\u001b[0;32m<ipython-input-3-6a528868caf5>\u001b[0m in \u001b[0;36m<module>\u001b[0;34m()\u001b[0m\n\u001b[0;32m----> 1\u001b[0;31m \u001b[0malpha\u001b[0m \u001b[0;34m=\u001b[0m \u001b[0mnp\u001b[0m\u001b[0;34m.\u001b[0m\u001b[0marray\u001b[0m\u001b[0;34m(\u001b[0m\u001b[0;34m[\u001b[0m\u001b[0;34m[\u001b[0m\u001b[0;36m0.707\u001b[0m\u001b[0;34m,\u001b[0m\u001b[0;36m0\u001b[0m\u001b[0;34m]\u001b[0m\u001b[0;34m,\u001b[0m\u001b[0;34m[\u001b[0m\u001b[0;36m0\u001b[0m\u001b[0;34m,\u001b[0m\u001b[0;36m0.707\u001b[0m\u001b[0;34m]\u001b[0m\u001b[0;34m]\u001b[0m\u001b[0;34m)\u001b[0m\u001b[0;34m\u001b[0m\u001b[0m\n\u001b[0m\u001b[1;32m      2\u001b[0m \u001b[0malpha\u001b[0m\u001b[0;34m\u001b[0m\u001b[0m\n",
      "\u001b[0;31mNameError\u001b[0m: name 'np' is not defined"
     ]
    }
   ],
   "source": [
    "alpha = np.array([[0.707,0],[0,0.707]])\n",
    "alpha"
   ]
  },
  {
   "cell_type": "code",
   "execution_count": null,
   "metadata": {},
   "outputs": [],
   "source": [
    "alpha_svd = np.linalg.svd(alpha)\n",
    "alpha_svd"
   ]
  },
  {
   "cell_type": "markdown",
   "metadata": {},
   "source": [
    "From which we see that: $U = V = \\mathbf{1}$ and $ S = \\text{diag}(0.707,0.707) $, where $S$ has more than one non-zero element and therefore we conclude that $\\fullket{\\psi}$ is entangled.\n",
    "\n",
    "Of course, this is a trivial example, since the SVD can be read off from looking the expression for $\\alpha_{ij}$."
   ]
  },
  {
   "cell_type": "code",
   "execution_count": null,
   "metadata": {},
   "outputs": [],
   "source": [
    "jordanWignerDestroyI(i=3,N=7)"
   ]
  },
  {
   "cell_type": "code",
   "execution_count": null,
   "metadata": {},
   "outputs": [],
   "source": [
    "a4of7 = jordanWignerDestroyI(i=3,N=7)"
   ]
  },
  {
   "cell_type": "code",
   "execution_count": null,
   "metadata": {},
   "outputs": [],
   "source": [
    "commutator(a4of7, a4of7.dag(), kind='anti')"
   ]
  },
  {
   "cell_type": "code",
   "execution_count": null,
   "metadata": {
    "collapsed": true
   },
   "outputs": [],
   "source": [
    "import sympy as sp"
   ]
  },
  {
   "cell_type": "code",
   "execution_count": null,
   "metadata": {},
   "outputs": [],
   "source": [
    "vara, varb = sp.var('a'), sp.var('b')\n",
    "vara, varb"
   ]
  },
  {
   "cell_type": "code",
   "execution_count": null,
   "metadata": {},
   "outputs": [],
   "source": [
    "# sympy can take a numpy object as input and return a sympy object,\n",
    "# on which we can then perform symbolic computations\n",
    "sp.Matrix(offDiagAbove(4))"
   ]
  },
  {
   "cell_type": "code",
   "execution_count": null,
   "metadata": {},
   "outputs": [],
   "source": [
    "mat1 = varb*sp.Matrix(offDiagAbove(4)+offDiagBelow(4))\n",
    "mat1"
   ]
  },
  {
   "cell_type": "code",
   "execution_count": null,
   "metadata": {},
   "outputs": [],
   "source": [
    "mat1 += vara*sp.eye(4)\n",
    "mat1"
   ]
  },
  {
   "cell_type": "code",
   "execution_count": null,
   "metadata": {},
   "outputs": [],
   "source": [
    "mat1.eigenvals()"
   ]
  },
  {
   "cell_type": "code",
   "execution_count": null,
   "metadata": {},
   "outputs": [],
   "source": [
    "for k in _77.keys():\n",
    "    print sp.expand(k)"
   ]
  },
  {
   "cell_type": "code",
   "execution_count": null,
   "metadata": {},
   "outputs": [],
   "source": [
    "sp.simplify(sp.sqrt(varb**2))"
   ]
  },
  {
   "cell_type": "code",
   "execution_count": null,
   "metadata": {},
   "outputs": [],
   "source": [
    "ising.eigenenergies()"
   ]
  },
  {
   "cell_type": "code",
   "execution_count": null,
   "metadata": {},
   "outputs": [],
   "source": [
    "h2 = Hamiltonian()"
   ]
  },
  {
   "cell_type": "code",
   "execution_count": null,
   "metadata": {},
   "outputs": [],
   "source": [
    "h2._hamTypes"
   ]
  },
  {
   "cell_type": "code",
   "execution_count": null,
   "metadata": {},
   "outputs": [],
   "source": [
    "h2.eigenenergies()"
   ]
  },
  {
   "cell_type": "code",
   "execution_count": null,
   "metadata": {
    "collapsed": true
   },
   "outputs": [],
   "source": [
    "np.linalg.svd?"
   ]
  },
  {
   "cell_type": "markdown",
   "metadata": {},
   "source": [
    "# Sandbox"
   ]
  },
  {
   "cell_type": "code",
   "execution_count": null,
   "metadata": {},
   "outputs": [],
   "source": [
    "hamiltonianIsing(N = 4, jcoefs = [-1,-1,-1,-1])"
   ]
  },
  {
   "cell_type": "code",
   "execution_count": null,
   "metadata": {},
   "outputs": [],
   "source": [
    "_123.eigenenergies()"
   ]
  },
  {
   "cell_type": "code",
   "execution_count": null,
   "metadata": {},
   "outputs": [],
   "source": [
    "hamiltonianIsing(N = 3)"
   ]
  },
  {
   "cell_type": "code",
   "execution_count": null,
   "metadata": {
    "collapsed": true
   },
   "outputs": [],
   "source": [
    "hami"
   ]
  },
  {
   "cell_type": "code",
   "execution_count": null,
   "metadata": {},
   "outputs": [],
   "source": [
    "psi.dims?"
   ]
  },
  {
   "cell_type": "code",
   "execution_count": null,
   "metadata": {},
   "outputs": [],
   "source": [
    "[basis(2,0)]*3"
   ]
  },
  {
   "cell_type": "markdown",
   "metadata": {},
   "source": [
    "Construct state corresponding to:"
   ]
  },
  {
   "cell_type": "code",
   "execution_count": null,
   "metadata": {},
   "outputs": [],
   "source": [
    "psi2 = 1/(np.sqrt(2)) * (tensor([basis(2,0)]*3) + tensor([basis(2,1)]*3))\n",
    "psi2"
   ]
  },
  {
   "cell_type": "code",
   "execution_count": null,
   "metadata": {},
   "outputs": [],
   "source": [
    "psi2.dims"
   ]
  },
  {
   "cell_type": "code",
   "execution_count": null,
   "metadata": {},
   "outputs": [],
   "source": [
    "num(3).unit()"
   ]
  },
  {
   "cell_type": "code",
   "execution_count": null,
   "metadata": {},
   "outputs": [],
   "source": [
    "basis(3,1)"
   ]
  },
  {
   "cell_type": "code",
   "execution_count": null,
   "metadata": {},
   "outputs": [],
   "source": [
    "aj = sigmaz()*ket([0])*bra([1])\n",
    "aj"
   ]
  },
  {
   "cell_type": "code",
   "execution_count": null,
   "metadata": {},
   "outputs": [],
   "source": [
    "commutator(aj,aj.dag(),kind='anti')"
   ]
  },
  {
   "cell_type": "code",
   "execution_count": null,
   "metadata": {
    "collapsed": true
   },
   "outputs": [],
   "source": [
    "sz = sigmaz()"
   ]
  },
  {
   "cell_type": "code",
   "execution_count": null,
   "metadata": {},
   "outputs": [],
   "source": [
    "sz1 = tensor(sz,qeye(2),qeye(2))\n",
    "sz2 = tensor(qeye(2),sz,qeye(2))\n",
    "sz1, sz2"
   ]
  },
  {
   "cell_type": "code",
   "execution_count": null,
   "metadata": {},
   "outputs": [],
   "source": [
    "sigma1 = tensor(qeye(2),qeye(2),(ket([0])*bra([1])))\n",
    "sigma1"
   ]
  },
  {
   "cell_type": "code",
   "execution_count": null,
   "metadata": {},
   "outputs": [],
   "source": [
    "aj1 = sz1 * sz2 * sigma1\n",
    "aj1"
   ]
  },
  {
   "cell_type": "code",
   "execution_count": null,
   "metadata": {},
   "outputs": [],
   "source": [
    "commutator(aj1,aj1.dag(),kind='anti') - tensor([qeye(2)]*3)"
   ]
  },
  {
   "cell_type": "code",
   "execution_count": null,
   "metadata": {},
   "outputs": [],
   "source": [
    "M = tensor([sigmaz()]*4)\n",
    "M"
   ]
  },
  {
   "cell_type": "code",
   "execution_count": null,
   "metadata": {},
   "outputs": [],
   "source": [
    "M.diag()"
   ]
  },
  {
   "cell_type": "markdown",
   "metadata": {},
   "source": [
    "Construct density matrix corresponding to given state:\n",
    "\n",
    "%$$ \\fullket{\\psi}\\fullbra{\\psi} =  $$"
   ]
  },
  {
   "cell_type": "code",
   "execution_count": null,
   "metadata": {},
   "outputs": [],
   "source": [
    "ground = h1.eigenstates()"
   ]
  },
  {
   "cell_type": "code",
   "execution_count": null,
   "metadata": {},
   "outputs": [],
   "source": [
    "tri = np.tri(3)\n",
    "Qobj(tri)"
   ]
  },
  {
   "cell_type": "code",
   "execution_count": null,
   "metadata": {},
   "outputs": [],
   "source": [
    "offDiagAbove(4)"
   ]
  },
  {
   "cell_type": "code",
   "execution_count": null,
   "metadata": {},
   "outputs": [],
   "source": [
    "Qobj(offDiagBelow(5) + offDiagAbove(5))"
   ]
  },
  {
   "cell_type": "code",
   "execution_count": null,
   "metadata": {},
   "outputs": [],
   "source": [
    "np.tri(4,4,1) - np.tri(4,4)"
   ]
  },
  {
   "cell_type": "code",
   "execution_count": null,
   "metadata": {},
   "outputs": [],
   "source": [
    "np.tri??"
   ]
  },
  {
   "cell_type": "code",
   "execution_count": null,
   "metadata": {},
   "outputs": [],
   "source": [
    "np.triu_indices?"
   ]
  },
  {
   "cell_type": "code",
   "execution_count": null,
   "metadata": {},
   "outputs": [],
   "source": [
    "np.shape(ground)"
   ]
  },
  {
   "cell_type": "code",
   "execution_count": null,
   "metadata": {
    "collapsed": true
   },
   "outputs": [],
   "source": [
    "Qobj.expm?"
   ]
  },
  {
   "cell_type": "code",
   "execution_count": null,
   "metadata": {},
   "outputs": [],
   "source": [
    "(2j*np.pi*sigmaz()).expm()"
   ]
  },
  {
   "cell_type": "code",
   "execution_count": null,
   "metadata": {},
   "outputs": [],
   "source": [
    "exph1 = (-0.95*h1).expm()"
   ]
  },
  {
   "cell_type": "code",
   "execution_count": null,
   "metadata": {},
   "outputs": [],
   "source": [
    "exph1.tr()"
   ]
  },
  {
   "cell_type": "code",
   "execution_count": null,
   "metadata": {},
   "outputs": [],
   "source": [
    "(h1*exph1).tr()"
   ]
  },
  {
   "cell_type": "code",
   "execution_count": null,
   "metadata": {},
   "outputs": [],
   "source": [
    "(exph1 * h1).tr()/exph1.tr()"
   ]
  },
  {
   "cell_type": "code",
   "execution_count": null,
   "metadata": {
    "collapsed": true
   },
   "outputs": [],
   "source": [
    "expect?"
   ]
  },
  {
   "cell_type": "code",
   "execution_count": null,
   "metadata": {},
   "outputs": [],
   "source": [
    "expect(h1,ground[1][10])"
   ]
  },
  {
   "cell_type": "code",
   "execution_count": null,
   "metadata": {},
   "outputs": [],
   "source": [
    "entropy_vn(h1)"
   ]
  },
  {
   "cell_type": "code",
   "execution_count": 138,
   "metadata": {},
   "outputs": [
    {
     "data": {
      "text/latex": [
       "Quantum object: dims = [[4], [1]], shape = [4, 1], type = ket\\begin{equation*}\\left(\\begin{array}{*{11}c}1.0\\\\0.0\\\\0.0\\\\0.0\\\\\\end{array}\\right)\\end{equation*}"
      ],
      "text/plain": [
       "Quantum object: dims = [[4], [1]], shape = [4, 1], type = ket\n",
       "Qobj data =\n",
       "[[ 1.]\n",
       " [ 0.]\n",
       " [ 0.]\n",
       " [ 0.]]"
      ]
     },
     "execution_count": 138,
     "metadata": {},
     "output_type": "execute_result"
    }
   ],
   "source": [
    "basis(4,0)"
   ]
  },
  {
   "cell_type": "code",
   "execution_count": 139,
   "metadata": {},
   "outputs": [
    {
     "data": {
      "text/latex": [
       "Quantum object: dims = [[2, 2], [2, 2]], shape = [4, 4], type = oper, isherm = True\\begin{equation*}\\left(\\begin{array}{*{11}c}1.0 & 0.0 & 0.0 & 0.0\\\\0.0 & -1.0 & 0.0 & 0.0\\\\0.0 & 0.0 & 1.0 & 0.0\\\\0.0 & 0.0 & 0.0 & -1.0\\\\\\end{array}\\right)\\end{equation*}"
      ],
      "text/plain": [
       "Quantum object: dims = [[2, 2], [2, 2]], shape = [4, 4], type = oper, isherm = True\n",
       "Qobj data =\n",
       "[[ 1.  0.  0.  0.]\n",
       " [ 0. -1.  0.  0.]\n",
       " [ 0.  0.  1.  0.]\n",
       " [ 0.  0.  0. -1.]]"
      ]
     },
     "execution_count": 139,
     "metadata": {},
     "output_type": "execute_result"
    }
   ],
   "source": [
    "A = tensor(qeye(2),sigmaz())\n",
    "A"
   ]
  },
  {
   "cell_type": "code",
   "execution_count": 140,
   "metadata": {},
   "outputs": [
    {
     "data": {
      "text/latex": [
       "Quantum object: dims = [[2, 2], [2, 2]], shape = [4, 4], type = oper, isherm = True\\begin{equation*}\\left(\\begin{array}{*{11}c}2.718 & 0.0 & 0.0 & 0.0\\\\0.0 & 0.368 & 0.0 & 0.0\\\\0.0 & 0.0 & 2.718 & 0.0\\\\0.0 & 0.0 & 0.0 & 0.368\\\\\\end{array}\\right)\\end{equation*}"
      ],
      "text/plain": [
       "Quantum object: dims = [[2, 2], [2, 2]], shape = [4, 4], type = oper, isherm = True\n",
       "Qobj data =\n",
       "[[ 2.71828183  0.          0.          0.        ]\n",
       " [ 0.          0.36787944  0.          0.        ]\n",
       " [ 0.          0.          2.71828183  0.        ]\n",
       " [ 0.          0.          0.          0.36787944]]"
      ]
     },
     "execution_count": 140,
     "metadata": {},
     "output_type": "execute_result"
    }
   ],
   "source": [
    "A.expm()"
   ]
  },
  {
   "cell_type": "code",
   "execution_count": 151,
   "metadata": {},
   "outputs": [
    {
     "data": {
      "text/latex": [
       "Quantum object: dims = [[2], [2]], shape = [2, 2], type = oper, isherm = False\\begin{equation*}\\left(\\begin{array}{*{11}c}-1.0j & 0.0\\\\0.0 & -1.0j\\\\\\end{array}\\right)\\end{equation*}"
      ],
      "text/plain": [
       "Quantum object: dims = [[2], [2]], shape = [2, 2], type = oper, isherm = False\n",
       "Qobj data =\n",
       "[[ 0.-1.j  0.+0.j]\n",
       " [ 0.+0.j  0.-1.j]]"
      ]
     },
     "execution_count": 151,
     "metadata": {},
     "output_type": "execute_result"
    }
   ],
   "source": [
    "M = - 1j*qeye(2)\n",
    "M"
   ]
  },
  {
   "cell_type": "code",
   "execution_count": 152,
   "metadata": {},
   "outputs": [
    {
     "data": {
      "text/latex": [
       "Quantum object: dims = [[2], [2]], shape = [2, 2], type = oper, isherm = False\\begin{equation*}\\left(\\begin{array}{*{11}c}(0.540-0.841j) & 0.0\\\\0.0 & (0.540-0.841j)\\\\\\end{array}\\right)\\end{equation*}"
      ],
      "text/plain": [
       "Quantum object: dims = [[2], [2]], shape = [2, 2], type = oper, isherm = False\n",
       "Qobj data =\n",
       "[[ 0.54030231-0.84147098j  0.00000000+0.j        ]\n",
       " [ 0.00000000+0.j          0.54030231-0.84147098j]]"
      ]
     },
     "execution_count": 152,
     "metadata": {},
     "output_type": "execute_result"
    }
   ],
   "source": [
    "M.expm()"
   ]
  },
  {
   "cell_type": "code",
   "execution_count": 153,
   "metadata": {},
   "outputs": [
    {
     "data": {
      "text/latex": [
       "Quantum object: dims = [[2, 2], [2, 2]], shape = [4, 4], type = oper, isherm = False\\begin{equation*}\\left(\\begin{array}{*{11}c}0.0 & 0.0 & 0.0 & 0.0\\\\0.0 & 0.0 & 0.0 & 0.0\\\\0.0 & 0.0 & 0.0 & 0.0\\\\0.0 & 0.0 & 0.0 & -3.142j\\\\\\end{array}\\right)\\end{equation*}"
      ],
      "text/plain": [
       "Quantum object: dims = [[2, 2], [2, 2]], shape = [4, 4], type = oper, isherm = False\n",
       "Qobj data =\n",
       "[[ 0.+0.j          0.+0.j          0.+0.j          0.+0.j        ]\n",
       " [ 0.+0.j          0.+0.j          0.+0.j          0.+0.j        ]\n",
       " [ 0.+0.j          0.+0.j          0.+0.j          0.+0.j        ]\n",
       " [ 0.+0.j          0.+0.j          0.+0.j          0.-3.14159265j]]"
      ]
     },
     "execution_count": 153,
     "metadata": {},
     "output_type": "execute_result"
    }
   ],
   "source": [
    "M = -1j*(np.pi/4.0 )*(tensor(qeye(2),qeye(2)) - tensor(qeye(2),sigmaz()) - tensor(sigmaz(),qeye(2)) + tensor(sigmaz(), sigmaz()) )  \n",
    "M"
   ]
  },
  {
   "cell_type": "code",
   "execution_count": 154,
   "metadata": {},
   "outputs": [
    {
     "data": {
      "text/latex": [
       "Quantum object: dims = [[2, 2], [2, 2]], shape = [4, 4], type = oper, isherm = True\\begin{equation*}\\left(\\begin{array}{*{11}c}1.0 & 0.0 & 0.0 & 0.0\\\\0.0 & 1.0 & 0.0 & 0.0\\\\0.0 & 0.0 & 1.0 & 0.0\\\\0.0 & 0.0 & 0.0 & -1.0\\\\\\end{array}\\right)\\end{equation*}"
      ],
      "text/plain": [
       "Quantum object: dims = [[2, 2], [2, 2]], shape = [4, 4], type = oper, isherm = True\n",
       "Qobj data =\n",
       "[[ 1.  0.  0.  0.]\n",
       " [ 0.  1.  0.  0.]\n",
       " [ 0.  0.  1.  0.]\n",
       " [ 0.  0.  0. -1.]]"
      ]
     },
     "execution_count": 154,
     "metadata": {},
     "output_type": "execute_result"
    }
   ],
   "source": [
    "M.expm()"
   ]
  },
  {
   "cell_type": "code",
   "execution_count": null,
   "metadata": {
    "collapsed": true
   },
   "outputs": [],
   "source": []
  }
 ],
 "metadata": {
  "kernelspec": {
   "display_name": "Python 3",
   "language": "python",
   "name": "python3"
  },
  "language_info": {
   "codemirror_mode": {
    "name": "ipython",
    "version": 3
   },
   "file_extension": ".py",
   "mimetype": "text/x-python",
   "name": "python",
   "nbconvert_exporter": "python",
   "pygments_lexer": "ipython3",
   "version": "3.6.8"
  },
  "latex_envs": {
   "LaTeX_envs_menu_present": true,
   "autoclose": true,
   "autocomplete": true,
   "bibliofile": "biblio.bib",
   "cite_by": "apalike",
   "current_citInitial": 1,
   "eqLabelWithNumbers": true,
   "eqNumInitial": 0,
   "hotkeys": {
    "equation": "Ctrl-E",
    "itemize": "Ctrl-I"
   },
   "labels_anchors": false,
   "latex_user_defs": false,
   "report_style_numbering": false,
   "user_envs_cfg": false
  },
  "toc": {
   "base_numbering": 1,
   "nav_menu": {},
   "number_sections": true,
   "sideBar": false,
   "skip_h1_title": false,
   "title_cell": "Table of Contents",
   "title_sidebar": "Contents",
   "toc_cell": true,
   "toc_position": {
    "height": "300px",
    "left": "919.703px",
    "right": "44.2667px",
    "top": "110px",
    "width": "262px"
   },
   "toc_section_display": true,
   "toc_window_display": true
  },
  "varInspector": {
   "cols": {
    "lenName": 16,
    "lenType": 16,
    "lenVar": 40
   },
   "kernels_config": {
    "python": {
     "delete_cmd_postfix": "",
     "delete_cmd_prefix": "del ",
     "library": "var_list.py",
     "varRefreshCmd": "print(var_dic_list())"
    },
    "r": {
     "delete_cmd_postfix": ") ",
     "delete_cmd_prefix": "rm(",
     "library": "var_list.r",
     "varRefreshCmd": "cat(var_dic_list()) "
    }
   },
   "types_to_exclude": [
    "module",
    "function",
    "builtin_function_or_method",
    "instance",
    "_Feature"
   ],
   "window_display": false
  }
 },
 "nbformat": 4,
 "nbformat_minor": 1
}
